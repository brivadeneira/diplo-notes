{
 "cells": [
  {
   "cell_type": "markdown",
   "id": "4944737b-7f26-472b-bf76-9da8c3d57463",
   "metadata": {},
   "source": [
    "## Probability"
   ]
  },
  {
   "cell_type": "markdown",
   "id": "bae76f05-9e87-4b0a-8061-04e2ad74e921",
   "metadata": {},
   "source": [
    "* $\\Omega$: simple space\n",
    "* $\\omega$: outcome\n",
    "* $A$: event (subset of $\\Omega$)\n",
    "* $|A|$: number of points in $A$\n",
    "* $A^c$: complement of A **not A**\n",
    "* $A \\cup B$: union **A or B**monthly_net_salary\n",
    "* $A \\cap B$ or $AB$: intersection **A and B**\n",
    "* $A - B$: **A diff B**\n",
    "* $A \\subset B$: inclusion **A is a subset of B**\n",
    "* $A \\subseteq B$: inclusion **A is a subset of equal to B**\n",
    "* $\\emptyset$: null event, empty set\n",
    "* $\\mathbb{P}$: probability"
   ]
  },
  {
   "cell_type": "markdown",
   "id": "af1d0989-389f-48ad-96b6-2a40000acc8e",
   "metadata": {},
   "source": [
    "### Probability axioms\n",
    "\n",
    "- $\\mathbb{P}(A) \\geq 0$ for every $A$\n",
    "- $\\mathbb{P}(\\Omega) = 1$\n",
    "- $\\mathbb{P}(\\cup_{i=1}^{\\infty}A_i) = \\sum_{i=1}^{\\infty}\\mathbb{P}(A_i)$\n"
   ]
  },
  {
   "cell_type": "markdown",
   "id": "94ca48b9-2412-4244-9ab8-ab761bf2fea1",
   "metadata": {},
   "source": [
    "#### Probability derivated axioms\n",
    "\n",
    "- $\\mathbb{P}(\\emptyset) = 0$\n",
    "- $A \\subset B \\rightarrow \\mathbb{P}(A) \\leq \\mathbb{P}(B)$\n",
    "- $0 \\leq \\mathbb{P}(A) \\leq 1$\n",
    "- $\\mathbb{P}(A^c) = 1 - \\mathbb{P}(A)$\n",
    "- $A \\cap B = \\emptyset \\rightarrow = \\mathbb{P}(A) + \\mathbb{P}(B)$ "
   ]
  },
  {
   "cell_type": "markdown",
   "id": "bb968a23-1b1a-43db-9dd3-523a6d9067bd",
   "metadata": {},
   "source": [
    "### Probability on finite sample spaces\n",
    "\n",
    "$\\mathbb{P}(A) = \\frac{|A|}{|\\Omega|}$, where  \n",
    "- $|A|$: number of points in $A$\n",
    "- $|\\Omega|$: number of points in the entire sample set"
   ]
  },
  {
   "cell_type": "code",
   "execution_count": 120,
   "id": "e2bc6d95-8d16-488b-8548-3779c3363d08",
   "metadata": {},
   "outputs": [],
   "source": [
    "import pandas as pd"
   ]
  },
  {
   "cell_type": "code",
   "execution_count": 121,
   "id": "42b38db8-6c0c-495e-b76c-3aeafd132da2",
   "metadata": {},
   "outputs": [],
   "source": [
    "df = pd.read_csv('sysarmy_tech_salary_survey_2022.csv')"
   ]
  },
  {
   "cell_type": "code",
   "execution_count": 122,
   "id": "0dcb5e4a-6fd7-46f6-aa05-c21c9e641ec2",
   "metadata": {},
   "outputs": [
    {
     "data": {
      "text/html": [
       "<div>\n",
       "<style scoped>\n",
       "    .dataframe tbody tr th:only-of-type {\n",
       "        vertical-align: middle;\n",
       "    }\n",
       "\n",
       "    .dataframe tbody tr th {\n",
       "        vertical-align: top;\n",
       "    }\n",
       "\n",
       "    .dataframe thead th {\n",
       "        text-align: right;\n",
       "    }\n",
       "</style>\n",
       "<table border=\"1\" class=\"dataframe\">\n",
       "  <thead>\n",
       "    <tr style=\"text-align: right;\">\n",
       "      <th></th>\n",
       "      <th>work_province</th>\n",
       "      <th>work_dedication</th>\n",
       "      <th>work_contract_type</th>\n",
       "      <th>monthly_gross_salary</th>\n",
       "      <th>monthly_net_salary</th>\n",
       "      <th>numero</th>\n",
       "      <th>salary_in_usd</th>\n",
       "      <th>salary_last_dollar_value</th>\n",
       "      <th>salary_pay_cripto</th>\n",
       "      <th>crypto_salary_percentage</th>\n",
       "      <th>...</th>\n",
       "      <th>profile_studies_level_state</th>\n",
       "      <th>profile_career</th>\n",
       "      <th>profile_university</th>\n",
       "      <th>profile_boot_camp</th>\n",
       "      <th>profile_boot_camp_carrer</th>\n",
       "      <th>work_on_call_duty</th>\n",
       "      <th>salary_on_call_duty_charge</th>\n",
       "      <th>work_on_call_duty_charge_type</th>\n",
       "      <th>profile_age</th>\n",
       "      <th>profile_gender</th>\n",
       "    </tr>\n",
       "  </thead>\n",
       "  <tbody>\n",
       "    <tr>\n",
       "      <th>0</th>\n",
       "      <td>Catamarca</td>\n",
       "      <td>Full-Time</td>\n",
       "      <td>Staff (planta permanente)</td>\n",
       "      <td>300000.0</td>\n",
       "      <td>245000.0</td>\n",
       "      <td>True</td>\n",
       "      <td>NaN</td>\n",
       "      <td>NaN</td>\n",
       "      <td>NaN</td>\n",
       "      <td>NaN</td>\n",
       "      <td>...</td>\n",
       "      <td>Completo</td>\n",
       "      <td>Licenciatura en redes y comunicación de datos</td>\n",
       "      <td>UP - Universidad de Palermo</td>\n",
       "      <td>NaN</td>\n",
       "      <td>NaN</td>\n",
       "      <td>NaN</td>\n",
       "      <td>NaN</td>\n",
       "      <td>NaN</td>\n",
       "      <td>35</td>\n",
       "      <td>varon cis</td>\n",
       "    </tr>\n",
       "    <tr>\n",
       "      <th>1</th>\n",
       "      <td>Chaco</td>\n",
       "      <td>Full-Time</td>\n",
       "      <td>Remoto (empresa de otro país)</td>\n",
       "      <td>900000.0</td>\n",
       "      <td>850000.0</td>\n",
       "      <td>True</td>\n",
       "      <td>Cobro todo el salario en dólares</td>\n",
       "      <td>300</td>\n",
       "      <td>NaN</td>\n",
       "      <td>NaN</td>\n",
       "      <td>...</td>\n",
       "      <td>NaN</td>\n",
       "      <td>NaN</td>\n",
       "      <td>NaN</td>\n",
       "      <td>NaN</td>\n",
       "      <td>NaN</td>\n",
       "      <td>NaN</td>\n",
       "      <td>NaN</td>\n",
       "      <td>NaN</td>\n",
       "      <td>31</td>\n",
       "      <td>varon cis</td>\n",
       "    </tr>\n",
       "    <tr>\n",
       "      <th>2</th>\n",
       "      <td>Chaco</td>\n",
       "      <td>Full-Time</td>\n",
       "      <td>Staff (planta permanente)</td>\n",
       "      <td>120000.0</td>\n",
       "      <td>115000.0</td>\n",
       "      <td>True</td>\n",
       "      <td>NaN</td>\n",
       "      <td>NaN</td>\n",
       "      <td>NaN</td>\n",
       "      <td>NaN</td>\n",
       "      <td>...</td>\n",
       "      <td>NaN</td>\n",
       "      <td>NaN</td>\n",
       "      <td>NaN</td>\n",
       "      <td>NaN</td>\n",
       "      <td>NaN</td>\n",
       "      <td>NaN</td>\n",
       "      <td>NaN</td>\n",
       "      <td>NaN</td>\n",
       "      <td>27</td>\n",
       "      <td>varon cis</td>\n",
       "    </tr>\n",
       "    <tr>\n",
       "      <th>3</th>\n",
       "      <td>Chaco</td>\n",
       "      <td>Full-Time</td>\n",
       "      <td>Remoto (empresa de otro país)</td>\n",
       "      <td>440000.0</td>\n",
       "      <td>0.0</td>\n",
       "      <td>True</td>\n",
       "      <td>Cobro todo el salario en dólares</td>\n",
       "      <td>220</td>\n",
       "      <td>Cobro todo el salario criptomonedas</td>\n",
       "      <td>100%</td>\n",
       "      <td>...</td>\n",
       "      <td>NaN</td>\n",
       "      <td>NaN</td>\n",
       "      <td>NaN</td>\n",
       "      <td>NaN</td>\n",
       "      <td>NaN</td>\n",
       "      <td>NaN</td>\n",
       "      <td>NaN</td>\n",
       "      <td>NaN</td>\n",
       "      <td>21</td>\n",
       "      <td>varon cis</td>\n",
       "    </tr>\n",
       "    <tr>\n",
       "      <th>4</th>\n",
       "      <td>Chaco</td>\n",
       "      <td>Full-Time</td>\n",
       "      <td>Staff (planta permanente)</td>\n",
       "      <td>140000.0</td>\n",
       "      <td>125000.0</td>\n",
       "      <td>True</td>\n",
       "      <td>NaN</td>\n",
       "      <td>NaN</td>\n",
       "      <td>NaN</td>\n",
       "      <td>NaN</td>\n",
       "      <td>...</td>\n",
       "      <td>NaN</td>\n",
       "      <td>NaN</td>\n",
       "      <td>NaN</td>\n",
       "      <td>NaN</td>\n",
       "      <td>NaN</td>\n",
       "      <td>NaN</td>\n",
       "      <td>NaN</td>\n",
       "      <td>NaN</td>\n",
       "      <td>32</td>\n",
       "      <td>varon cis</td>\n",
       "    </tr>\n",
       "  </tbody>\n",
       "</table>\n",
       "<p>5 rows × 43 columns</p>\n",
       "</div>"
      ],
      "text/plain": [
       "  work_province work_dedication             work_contract_type   \n",
       "0     Catamarca       Full-Time      Staff (planta permanente)  \\\n",
       "1         Chaco       Full-Time  Remoto (empresa de otro país)   \n",
       "2         Chaco       Full-Time      Staff (planta permanente)   \n",
       "3         Chaco       Full-Time  Remoto (empresa de otro país)   \n",
       "4         Chaco       Full-Time      Staff (planta permanente)   \n",
       "\n",
       "   monthly_gross_salary  monthly_net_salary  numero   \n",
       "0              300000.0            245000.0    True  \\\n",
       "1              900000.0            850000.0    True   \n",
       "2              120000.0            115000.0    True   \n",
       "3              440000.0                 0.0    True   \n",
       "4              140000.0            125000.0    True   \n",
       "\n",
       "                      salary_in_usd salary_last_dollar_value   \n",
       "0                               NaN                      NaN  \\\n",
       "1  Cobro todo el salario en dólares                      300   \n",
       "2                               NaN                      NaN   \n",
       "3  Cobro todo el salario en dólares                      220   \n",
       "4                               NaN                      NaN   \n",
       "\n",
       "                     salary_pay_cripto crypto_salary_percentage  ...   \n",
       "0                                  NaN                      NaN  ...  \\\n",
       "1                                  NaN                      NaN  ...   \n",
       "2                                  NaN                      NaN  ...   \n",
       "3  Cobro todo el salario criptomonedas                     100%  ...   \n",
       "4                                  NaN                      NaN  ...   \n",
       "\n",
       "  profile_studies_level_state                                 profile_career   \n",
       "0                    Completo  Licenciatura en redes y comunicación de datos  \\\n",
       "1                         NaN                                            NaN   \n",
       "2                         NaN                                            NaN   \n",
       "3                         NaN                                            NaN   \n",
       "4                         NaN                                            NaN   \n",
       "\n",
       "            profile_university profile_boot_camp profile_boot_camp_carrer   \n",
       "0  UP - Universidad de Palermo               NaN                      NaN  \\\n",
       "1                          NaN               NaN                      NaN   \n",
       "2                          NaN               NaN                      NaN   \n",
       "3                          NaN               NaN                      NaN   \n",
       "4                          NaN               NaN                      NaN   \n",
       "\n",
       "   work_on_call_duty salary_on_call_duty_charge   \n",
       "0                NaN                        NaN  \\\n",
       "1                NaN                        NaN   \n",
       "2                NaN                        NaN   \n",
       "3                NaN                        NaN   \n",
       "4                NaN                        NaN   \n",
       "\n",
       "   work_on_call_duty_charge_type profile_age  profile_gender  \n",
       "0                            NaN          35       varon cis  \n",
       "1                            NaN          31       varon cis  \n",
       "2                            NaN          27       varon cis  \n",
       "3                            NaN          21       varon cis  \n",
       "4                            NaN          32       varon cis  \n",
       "\n",
       "[5 rows x 43 columns]"
      ]
     },
     "execution_count": 122,
     "metadata": {},
     "output_type": "execute_result"
    }
   ],
   "source": [
    "df.head()"
   ]
  },
  {
   "cell_type": "code",
   "execution_count": 123,
   "id": "2c64625f-81a2-4a7c-bb62-a0da60feb7e3",
   "metadata": {},
   "outputs": [],
   "source": [
    "n_rows = df.size"
   ]
  },
  {
   "cell_type": "markdown",
   "id": "52a4632f-9184-4ad7-83f4-10d171d2561f",
   "metadata": {},
   "source": [
    "- what is the chance of a salary for higher than average earnings?"
   ]
  },
  {
   "cell_type": "code",
   "execution_count": 124,
   "id": "b6b1048a-859b-48e9-b4e8-8894459761e5",
   "metadata": {},
   "outputs": [],
   "source": [
    "avg_salary = df.monthly_net_salary.mean()\n",
    "\n",
    "above_avg_salary_mask = df.monthly_net_salary > avg_salary\n",
    "above_avg_salary_applied = df[above_avg_salary_mask]"
   ]
  },
  {
   "cell_type": "code",
   "execution_count": 125,
   "id": "82af4296-8841-4d6e-a9d6-3214752da20b",
   "metadata": {},
   "outputs": [
    {
     "data": {
      "text/plain": [
       "277010.79"
      ]
     },
     "execution_count": 125,
     "metadata": {},
     "output_type": "execute_result"
    }
   ],
   "source": [
    "round(avg_salary, 2)"
   ]
  },
  {
   "cell_type": "code",
   "execution_count": 126,
   "id": "b383160b-39e8-42fe-8edf-5b0cd2916f82",
   "metadata": {},
   "outputs": [
    {
     "data": {
      "text/html": [
       "<div>\n",
       "<style scoped>\n",
       "    .dataframe tbody tr th:only-of-type {\n",
       "        vertical-align: middle;\n",
       "    }\n",
       "\n",
       "    .dataframe tbody tr th {\n",
       "        vertical-align: top;\n",
       "    }\n",
       "\n",
       "    .dataframe thead th {\n",
       "        text-align: right;\n",
       "    }\n",
       "</style>\n",
       "<table border=\"1\" class=\"dataframe\">\n",
       "  <thead>\n",
       "    <tr style=\"text-align: right;\">\n",
       "      <th></th>\n",
       "      <th>work_province</th>\n",
       "      <th>work_dedication</th>\n",
       "      <th>work_contract_type</th>\n",
       "      <th>monthly_gross_salary</th>\n",
       "      <th>monthly_net_salary</th>\n",
       "      <th>numero</th>\n",
       "      <th>salary_in_usd</th>\n",
       "      <th>salary_last_dollar_value</th>\n",
       "      <th>salary_pay_cripto</th>\n",
       "      <th>crypto_salary_percentage</th>\n",
       "      <th>...</th>\n",
       "      <th>profile_studies_level_state</th>\n",
       "      <th>profile_career</th>\n",
       "      <th>profile_university</th>\n",
       "      <th>profile_boot_camp</th>\n",
       "      <th>profile_boot_camp_carrer</th>\n",
       "      <th>work_on_call_duty</th>\n",
       "      <th>salary_on_call_duty_charge</th>\n",
       "      <th>work_on_call_duty_charge_type</th>\n",
       "      <th>profile_age</th>\n",
       "      <th>profile_gender</th>\n",
       "    </tr>\n",
       "  </thead>\n",
       "  <tbody>\n",
       "    <tr>\n",
       "      <th>1</th>\n",
       "      <td>Chaco</td>\n",
       "      <td>Full-Time</td>\n",
       "      <td>Remoto (empresa de otro país)</td>\n",
       "      <td>900000.0</td>\n",
       "      <td>850000.0</td>\n",
       "      <td>True</td>\n",
       "      <td>Cobro todo el salario en dólares</td>\n",
       "      <td>300</td>\n",
       "      <td>NaN</td>\n",
       "      <td>NaN</td>\n",
       "      <td>...</td>\n",
       "      <td>NaN</td>\n",
       "      <td>NaN</td>\n",
       "      <td>NaN</td>\n",
       "      <td>NaN</td>\n",
       "      <td>NaN</td>\n",
       "      <td>NaN</td>\n",
       "      <td>NaN</td>\n",
       "      <td>NaN</td>\n",
       "      <td>31</td>\n",
       "      <td>varon cis</td>\n",
       "    </tr>\n",
       "    <tr>\n",
       "      <th>5</th>\n",
       "      <td>Chaco</td>\n",
       "      <td>Full-Time</td>\n",
       "      <td>Staff (planta permanente)</td>\n",
       "      <td>633000.0</td>\n",
       "      <td>395000.0</td>\n",
       "      <td>True</td>\n",
       "      <td>Cobro parte del salario en dólares</td>\n",
       "      <td>NaN</td>\n",
       "      <td>NaN</td>\n",
       "      <td>NaN</td>\n",
       "      <td>...</td>\n",
       "      <td>Completo</td>\n",
       "      <td>Licenciatura en Sistemas de Información</td>\n",
       "      <td>UNNE - Universidad Nacional Del Nordeste</td>\n",
       "      <td>NaN</td>\n",
       "      <td>NaN</td>\n",
       "      <td>NaN</td>\n",
       "      <td>NaN</td>\n",
       "      <td>NaN</td>\n",
       "      <td>31</td>\n",
       "      <td>varon cis</td>\n",
       "    </tr>\n",
       "    <tr>\n",
       "      <th>12</th>\n",
       "      <td>Chaco</td>\n",
       "      <td>Full-Time</td>\n",
       "      <td>Staff (planta permanente)</td>\n",
       "      <td>329850.0</td>\n",
       "      <td>315000.0</td>\n",
       "      <td>True</td>\n",
       "      <td>Cobro parte del salario en dólares</td>\n",
       "      <td>NaN</td>\n",
       "      <td>NaN</td>\n",
       "      <td>NaN</td>\n",
       "      <td>...</td>\n",
       "      <td>Completo</td>\n",
       "      <td>Ingeniería en Sistemas de Información</td>\n",
       "      <td>UTN - Universidad Tecnológica Nacional</td>\n",
       "      <td>NaN</td>\n",
       "      <td>NaN</td>\n",
       "      <td>No</td>\n",
       "      <td>0.0</td>\n",
       "      <td>Porcentaje de mi sueldo bruto</td>\n",
       "      <td>45</td>\n",
       "      <td>varon cis</td>\n",
       "    </tr>\n",
       "    <tr>\n",
       "      <th>13</th>\n",
       "      <td>Chaco</td>\n",
       "      <td>Full-Time</td>\n",
       "      <td>Remoto (empresa de otro país)</td>\n",
       "      <td>625000.0</td>\n",
       "      <td>625000.0</td>\n",
       "      <td>True</td>\n",
       "      <td>Cobro todo el salario en dólares</td>\n",
       "      <td>250</td>\n",
       "      <td>NaN</td>\n",
       "      <td>NaN</td>\n",
       "      <td>...</td>\n",
       "      <td>En curso</td>\n",
       "      <td>Ingeniería en Sistemas de Información</td>\n",
       "      <td>UTN - Universidad Tecnológica Nacional</td>\n",
       "      <td>NaN</td>\n",
       "      <td>NaN</td>\n",
       "      <td>NaN</td>\n",
       "      <td>NaN</td>\n",
       "      <td>NaN</td>\n",
       "      <td>23</td>\n",
       "      <td>varon cis</td>\n",
       "    </tr>\n",
       "    <tr>\n",
       "      <th>15</th>\n",
       "      <td>Chaco</td>\n",
       "      <td>Full-Time</td>\n",
       "      <td>Staff (planta permanente)</td>\n",
       "      <td>380000.0</td>\n",
       "      <td>317000.0</td>\n",
       "      <td>True</td>\n",
       "      <td>Cobro todo el salario en dólares</td>\n",
       "      <td>NaN</td>\n",
       "      <td>NaN</td>\n",
       "      <td>NaN</td>\n",
       "      <td>...</td>\n",
       "      <td>En curso</td>\n",
       "      <td>Ingeniería en Sistemas de Información</td>\n",
       "      <td>UTN - Universidad Tecnológica Nacional</td>\n",
       "      <td>NaN</td>\n",
       "      <td>NaN</td>\n",
       "      <td>NaN</td>\n",
       "      <td>NaN</td>\n",
       "      <td>NaN</td>\n",
       "      <td>29</td>\n",
       "      <td>varon cis</td>\n",
       "    </tr>\n",
       "    <tr>\n",
       "      <th>...</th>\n",
       "      <td>...</td>\n",
       "      <td>...</td>\n",
       "      <td>...</td>\n",
       "      <td>...</td>\n",
       "      <td>...</td>\n",
       "      <td>...</td>\n",
       "      <td>...</td>\n",
       "      <td>...</td>\n",
       "      <td>...</td>\n",
       "      <td>...</td>\n",
       "      <td>...</td>\n",
       "      <td>...</td>\n",
       "      <td>...</td>\n",
       "      <td>...</td>\n",
       "      <td>...</td>\n",
       "      <td>...</td>\n",
       "      <td>...</td>\n",
       "      <td>...</td>\n",
       "      <td>...</td>\n",
       "      <td>...</td>\n",
       "      <td>...</td>\n",
       "    </tr>\n",
       "    <tr>\n",
       "      <th>5331</th>\n",
       "      <td>Tucumán</td>\n",
       "      <td>Full-Time</td>\n",
       "      <td>Staff (planta permanente)</td>\n",
       "      <td>396000.0</td>\n",
       "      <td>290000.0</td>\n",
       "      <td>True</td>\n",
       "      <td>NaN</td>\n",
       "      <td>NaN</td>\n",
       "      <td>NaN</td>\n",
       "      <td>NaN</td>\n",
       "      <td>...</td>\n",
       "      <td>Incompleto</td>\n",
       "      <td>Licenciatura en Informática</td>\n",
       "      <td>universidad nacional de tucuman</td>\n",
       "      <td>NaN</td>\n",
       "      <td>NaN</td>\n",
       "      <td>No</td>\n",
       "      <td>0.0</td>\n",
       "      <td>Neto</td>\n",
       "      <td>36</td>\n",
       "      <td>varon cis</td>\n",
       "    </tr>\n",
       "    <tr>\n",
       "      <th>5337</th>\n",
       "      <td>Tucumán</td>\n",
       "      <td>Full-Time</td>\n",
       "      <td>Staff (planta permanente)</td>\n",
       "      <td>546000.0</td>\n",
       "      <td>384000.0</td>\n",
       "      <td>True</td>\n",
       "      <td>Cobro parte del salario en dólares</td>\n",
       "      <td>NaN</td>\n",
       "      <td>NaN</td>\n",
       "      <td>NaN</td>\n",
       "      <td>...</td>\n",
       "      <td>Completo</td>\n",
       "      <td>Analista de Sistemas</td>\n",
       "      <td>NaN</td>\n",
       "      <td>NaN</td>\n",
       "      <td>NaN</td>\n",
       "      <td>Sí, activa</td>\n",
       "      <td>0.0</td>\n",
       "      <td>Bruto</td>\n",
       "      <td>35</td>\n",
       "      <td>varon cis</td>\n",
       "    </tr>\n",
       "    <tr>\n",
       "      <th>5344</th>\n",
       "      <td>Tucumán</td>\n",
       "      <td>Full-Time</td>\n",
       "      <td>Staff (planta permanente)</td>\n",
       "      <td>465000.0</td>\n",
       "      <td>340000.0</td>\n",
       "      <td>True</td>\n",
       "      <td>NaN</td>\n",
       "      <td>NaN</td>\n",
       "      <td>NaN</td>\n",
       "      <td>NaN</td>\n",
       "      <td>...</td>\n",
       "      <td>NaN</td>\n",
       "      <td>NaN</td>\n",
       "      <td>NaN</td>\n",
       "      <td>NaN</td>\n",
       "      <td>NaN</td>\n",
       "      <td>NaN</td>\n",
       "      <td>NaN</td>\n",
       "      <td>NaN</td>\n",
       "      <td>32</td>\n",
       "      <td>varon cis</td>\n",
       "    </tr>\n",
       "    <tr>\n",
       "      <th>5348</th>\n",
       "      <td>Tucumán</td>\n",
       "      <td>Full-Time</td>\n",
       "      <td>Remoto (empresa de otro país)</td>\n",
       "      <td>300000.0</td>\n",
       "      <td>294000.0</td>\n",
       "      <td>True</td>\n",
       "      <td>Cobro todo el salario en dólares</td>\n",
       "      <td>NaN</td>\n",
       "      <td>NaN</td>\n",
       "      <td>NaN</td>\n",
       "      <td>...</td>\n",
       "      <td>Incompleto</td>\n",
       "      <td>Licenciatura en Psicologia</td>\n",
       "      <td>UNT - Universidad Nacion de Tucuman</td>\n",
       "      <td>NaN</td>\n",
       "      <td>NaN</td>\n",
       "      <td>No</td>\n",
       "      <td>0.0</td>\n",
       "      <td>Porcentaje de mi sueldo bruto</td>\n",
       "      <td>30</td>\n",
       "      <td>varon cis</td>\n",
       "    </tr>\n",
       "    <tr>\n",
       "      <th>5356</th>\n",
       "      <td>Tucumán</td>\n",
       "      <td>Full-Time</td>\n",
       "      <td>Staff (planta permanente)</td>\n",
       "      <td>450989.0</td>\n",
       "      <td>297750.0</td>\n",
       "      <td>True</td>\n",
       "      <td>Cobro parte del salario en dólares</td>\n",
       "      <td>131,55</td>\n",
       "      <td>NaN</td>\n",
       "      <td>NaN</td>\n",
       "      <td>...</td>\n",
       "      <td>Incompleto</td>\n",
       "      <td>Ingeniería en Sistemas de Información</td>\n",
       "      <td>UTN - Universidad Tecnológica Nacional</td>\n",
       "      <td>NaN</td>\n",
       "      <td>NaN</td>\n",
       "      <td>No</td>\n",
       "      <td>0.0</td>\n",
       "      <td>Neto</td>\n",
       "      <td>39</td>\n",
       "      <td>varon cis</td>\n",
       "    </tr>\n",
       "  </tbody>\n",
       "</table>\n",
       "<p>1520 rows × 43 columns</p>\n",
       "</div>"
      ],
      "text/plain": [
       "     work_province work_dedication             work_contract_type   \n",
       "1            Chaco       Full-Time  Remoto (empresa de otro país)  \\\n",
       "5            Chaco       Full-Time      Staff (planta permanente)   \n",
       "12           Chaco       Full-Time      Staff (planta permanente)   \n",
       "13           Chaco       Full-Time  Remoto (empresa de otro país)   \n",
       "15           Chaco       Full-Time      Staff (planta permanente)   \n",
       "...            ...             ...                            ...   \n",
       "5331       Tucumán       Full-Time      Staff (planta permanente)   \n",
       "5337       Tucumán       Full-Time      Staff (planta permanente)   \n",
       "5344       Tucumán       Full-Time      Staff (planta permanente)   \n",
       "5348       Tucumán       Full-Time  Remoto (empresa de otro país)   \n",
       "5356       Tucumán       Full-Time      Staff (planta permanente)   \n",
       "\n",
       "      monthly_gross_salary  monthly_net_salary  numero   \n",
       "1                 900000.0            850000.0    True  \\\n",
       "5                 633000.0            395000.0    True   \n",
       "12                329850.0            315000.0    True   \n",
       "13                625000.0            625000.0    True   \n",
       "15                380000.0            317000.0    True   \n",
       "...                    ...                 ...     ...   \n",
       "5331              396000.0            290000.0    True   \n",
       "5337              546000.0            384000.0    True   \n",
       "5344              465000.0            340000.0    True   \n",
       "5348              300000.0            294000.0    True   \n",
       "5356              450989.0            297750.0    True   \n",
       "\n",
       "                           salary_in_usd salary_last_dollar_value   \n",
       "1       Cobro todo el salario en dólares                      300  \\\n",
       "5     Cobro parte del salario en dólares                      NaN   \n",
       "12    Cobro parte del salario en dólares                      NaN   \n",
       "13      Cobro todo el salario en dólares                      250   \n",
       "15      Cobro todo el salario en dólares                      NaN   \n",
       "...                                  ...                      ...   \n",
       "5331                                 NaN                      NaN   \n",
       "5337  Cobro parte del salario en dólares                      NaN   \n",
       "5344                                 NaN                      NaN   \n",
       "5348    Cobro todo el salario en dólares                      NaN   \n",
       "5356  Cobro parte del salario en dólares                   131,55   \n",
       "\n",
       "     salary_pay_cripto crypto_salary_percentage  ...   \n",
       "1                  NaN                      NaN  ...  \\\n",
       "5                  NaN                      NaN  ...   \n",
       "12                 NaN                      NaN  ...   \n",
       "13                 NaN                      NaN  ...   \n",
       "15                 NaN                      NaN  ...   \n",
       "...                ...                      ...  ...   \n",
       "5331               NaN                      NaN  ...   \n",
       "5337               NaN                      NaN  ...   \n",
       "5344               NaN                      NaN  ...   \n",
       "5348               NaN                      NaN  ...   \n",
       "5356               NaN                      NaN  ...   \n",
       "\n",
       "     profile_studies_level_state                           profile_career   \n",
       "1                            NaN                                      NaN  \\\n",
       "5                       Completo  Licenciatura en Sistemas de Información   \n",
       "12                      Completo    Ingeniería en Sistemas de Información   \n",
       "13                      En curso    Ingeniería en Sistemas de Información   \n",
       "15                      En curso    Ingeniería en Sistemas de Información   \n",
       "...                          ...                                      ...   \n",
       "5331                  Incompleto              Licenciatura en Informática   \n",
       "5337                    Completo                     Analista de Sistemas   \n",
       "5344                         NaN                                      NaN   \n",
       "5348                  Incompleto               Licenciatura en Psicologia   \n",
       "5356                  Incompleto    Ingeniería en Sistemas de Información   \n",
       "\n",
       "                            profile_university profile_boot_camp   \n",
       "1                                          NaN               NaN  \\\n",
       "5     UNNE - Universidad Nacional Del Nordeste               NaN   \n",
       "12      UTN - Universidad Tecnológica Nacional               NaN   \n",
       "13      UTN - Universidad Tecnológica Nacional               NaN   \n",
       "15      UTN - Universidad Tecnológica Nacional               NaN   \n",
       "...                                        ...               ...   \n",
       "5331           universidad nacional de tucuman               NaN   \n",
       "5337                                       NaN               NaN   \n",
       "5344                                       NaN               NaN   \n",
       "5348       UNT - Universidad Nacion de Tucuman               NaN   \n",
       "5356    UTN - Universidad Tecnológica Nacional               NaN   \n",
       "\n",
       "     profile_boot_camp_carrer  work_on_call_duty salary_on_call_duty_charge   \n",
       "1                         NaN                NaN                        NaN  \\\n",
       "5                         NaN                NaN                        NaN   \n",
       "12                        NaN                 No                        0.0   \n",
       "13                        NaN                NaN                        NaN   \n",
       "15                        NaN                NaN                        NaN   \n",
       "...                       ...                ...                        ...   \n",
       "5331                      NaN                 No                        0.0   \n",
       "5337                      NaN         Sí, activa                        0.0   \n",
       "5344                      NaN                NaN                        NaN   \n",
       "5348                      NaN                 No                        0.0   \n",
       "5356                      NaN                 No                        0.0   \n",
       "\n",
       "      work_on_call_duty_charge_type profile_age  profile_gender  \n",
       "1                               NaN          31       varon cis  \n",
       "5                               NaN          31       varon cis  \n",
       "12    Porcentaje de mi sueldo bruto          45       varon cis  \n",
       "13                              NaN          23       varon cis  \n",
       "15                              NaN          29       varon cis  \n",
       "...                             ...         ...             ...  \n",
       "5331                           Neto          36       varon cis  \n",
       "5337                          Bruto          35       varon cis  \n",
       "5344                            NaN          32       varon cis  \n",
       "5348  Porcentaje de mi sueldo bruto          30       varon cis  \n",
       "5356                           Neto          39       varon cis  \n",
       "\n",
       "[1520 rows x 43 columns]"
      ]
     },
     "execution_count": 126,
     "metadata": {},
     "output_type": "execute_result"
    }
   ],
   "source": [
    "above_avg_salary_applied"
   ]
  },
  {
   "cell_type": "markdown",
   "id": "8db4982d-2f76-4408-96bf-bf540082184f",
   "metadata": {},
   "source": [
    "$\\mathbb{P}(A_a) = \\frac{|A_a|}{|\\Omega|}$, where  \n",
    "- $|A_a|$: number of points in $A$ with $A > avg\\_salary$\n",
    "- $|\\Omega|$: number of points in the entire sample set"
   ]
  },
  {
   "cell_type": "code",
   "execution_count": 127,
   "id": "2ae8dbc8-1d36-414e-9dfe-97bd26f634fe",
   "metadata": {},
   "outputs": [
    {
     "data": {
      "text/plain": [
       "0.28368794326241137"
      ]
     },
     "execution_count": 127,
     "metadata": {},
     "output_type": "execute_result"
    }
   ],
   "source": [
    "prob_salary_above_avg = above_avg_salary_applied.size / n_rows\n",
    "prob_salary_above_avg"
   ]
  },
  {
   "cell_type": "code",
   "execution_count": 128,
   "id": "0f0b7e00-d7ef-4044-b127-ae2c509dbf94",
   "metadata": {},
   "outputs": [
    {
     "data": {
      "text/plain": [
       "28.37"
      ]
     },
     "execution_count": 128,
     "metadata": {},
     "output_type": "execute_result"
    }
   ],
   "source": [
    "round(prob_salary_above_avg * 100, 2)"
   ]
  },
  {
   "cell_type": "markdown",
   "id": "98543e9c-b56e-49cf-a442-58c69997b067",
   "metadata": {},
   "source": [
    "## Conditional probability\n",
    "\n",
    "The conditional probability of $A$ given $B$ is:\n",
    "\n",
    "$\\mathbb{P}(A | B) = \\frac{\\mathbb{P}(A \\cap B)}{\\mathbb{P}(B)}$\n",
    "\n",
    "![](https://i.imgur.com/FKNyeqX.png)"
   ]
  },
  {
   "cell_type": "markdown",
   "id": "5307f004-c1f6-48fb-be45-d1cca898f92a",
   "metadata": {},
   "source": [
    "- what is the chance of a salary for higher than average earnings with *more than 5 years of exp*?"
   ]
  },
  {
   "cell_type": "markdown",
   "id": "c3700036-ec18-4270-98a9-3a5d9590ba1c",
   "metadata": {},
   "source": [
    "- $A: earings > avg\\_salary$\n",
    "- $B: years\\_of\\_exp > 5$"
   ]
  },
  {
   "cell_type": "code",
   "execution_count": 129,
   "id": "d8bfcc71-a7cd-4bd5-b1fe-c648a6b90573",
   "metadata": {},
   "outputs": [],
   "source": [
    "more_than_5_exp_mask = df.profile_years_experience > 5\n",
    "more_than_5_exp_applied = df[more_than_5_exp_mask]\n",
    "more_than_5_exp_n_rows = more_than_5_exp_applied.size"
   ]
  },
  {
   "cell_type": "code",
   "execution_count": 130,
   "id": "5f3c3a1c-03c6-4032-9c53-97fa7587d99e",
   "metadata": {},
   "outputs": [],
   "source": [
    "above_salary_avg_and_5_years = df[above_avg_salary_mask & more_than_5_exp_mask]"
   ]
  },
  {
   "cell_type": "code",
   "execution_count": 131,
   "id": "ee216adc-ddc4-41fa-bd4f-4dc093479c12",
   "metadata": {},
   "outputs": [
    {
     "data": {
      "text/plain": [
       "0.429225645295587"
      ]
     },
     "execution_count": 131,
     "metadata": {},
     "output_type": "execute_result"
    }
   ],
   "source": [
    "prob_above_salary_avg_and_5_years = above_salary_avg_and_5_years.size / more_than_5_exp_n_rows\n",
    "prob_above_salary_avg_and_5_years"
   ]
  },
  {
   "cell_type": "code",
   "execution_count": 132,
   "id": "1f5f41c2-d475-4005-958a-2f8efa0054c5",
   "metadata": {},
   "outputs": [
    {
     "data": {
      "text/plain": [
       "42.92"
      ]
     },
     "execution_count": 132,
     "metadata": {},
     "output_type": "execute_result"
    }
   ],
   "source": [
    "round(prob_above_salary_avg_and_5_years * 100, 2)"
   ]
  },
  {
   "cell_type": "markdown",
   "id": "1c567bcb-aa57-4abc-a9b7-0e9c00ee4b91",
   "metadata": {},
   "source": [
    "### Independent events\n",
    "\n",
    "Two events $A$ and $B$ are **independent** if $\\mathbb{P}(AB) = \\mathbb{P}(A) \\mathbb{P}(B)$"
   ]
  },
  {
   "cell_type": "code",
   "execution_count": 133,
   "id": "bed5cf16-17f0-437b-81f6-8d716524b33b",
   "metadata": {},
   "outputs": [
    {
     "data": {
      "text/plain": [
       "44.83"
      ]
     },
     "execution_count": 133,
     "metadata": {},
     "output_type": "execute_result"
    }
   ],
   "source": [
    "prob_more_than_5_exp = more_than_5_exp_applied.size / n_rows\n",
    "round(prob_more_than_5_exp * 100, 2)"
   ]
  },
  {
   "cell_type": "code",
   "execution_count": 134,
   "id": "64a28a4d-7df7-4002-a713-844b1bc76b82",
   "metadata": {},
   "outputs": [
    {
     "data": {
      "text/plain": [
       "(0.28368794326241137, 0.4483016050765211)"
      ]
     },
     "execution_count": 134,
     "metadata": {},
     "output_type": "execute_result"
    }
   ],
   "source": [
    "prob_salary_above_avg, prob_more_than_5_exp"
   ]
  },
  {
   "cell_type": "code",
   "execution_count": 135,
   "id": "a7a5a6c9-30ed-4886-9049-385e21f7bc03",
   "metadata": {},
   "outputs": [
    {
     "data": {
      "text/plain": [
       "False"
      ]
     },
     "execution_count": 135,
     "metadata": {},
     "output_type": "execute_result"
    }
   ],
   "source": [
    "prob_above_salary_avg_and_5_years == prob_salary_above_avg * prob_more_than_5_exp"
   ]
  },
  {
   "cell_type": "markdown",
   "id": "0a1372de-814c-4db7-ab0e-ad0b0595cef8",
   "metadata": {},
   "source": [
    "- what is the chance of a salary for higher than average earnings being a woman/man?"
   ]
  },
  {
   "cell_type": "code",
   "execution_count": 136,
   "id": "974fa044-0bec-464f-b302-f5848a5fb1cb",
   "metadata": {},
   "outputs": [
    {
     "data": {
      "text/plain": [
       "array(['varon cis', 'mujer cis', 'diversidades'], dtype=object)"
      ]
     },
     "execution_count": 136,
     "metadata": {},
     "output_type": "execute_result"
    }
   ],
   "source": [
    "df.profile_gender.unique()"
   ]
  },
  {
   "cell_type": "code",
   "execution_count": 137,
   "id": "2fa694eb-8280-44d2-bc3d-e8195d4a34b3",
   "metadata": {},
   "outputs": [],
   "source": [
    "fem_mask, mas_mask = df.profile_gender == 'mujer cis', df.profile_gender == 'varon cis'"
   ]
  },
  {
   "cell_type": "code",
   "execution_count": 138,
   "id": "2299741a-34d7-47a3-be1d-b2078991dbf6",
   "metadata": {},
   "outputs": [
    {
     "data": {
      "text/plain": [
       "2.71"
      ]
     },
     "execution_count": 138,
     "metadata": {},
     "output_type": "execute_result"
    }
   ],
   "source": [
    "fem_applied = df[fem_mask]\n",
    "fem_prob = fem_applied.size / n_rows\n",
    "\n",
    "fem_above_avg_salary = df[fem_mask & above_avg_salary_mask]\n",
    "prob_fem_above_avg_salary = fem_above_avg_salary.size / n_rows\n",
    "round(prob_fem_above_avg_salary * 100, 2)"
   ]
  },
  {
   "cell_type": "code",
   "execution_count": 139,
   "id": "32f7df9d-e110-4173-ac0a-a7c98a461aa9",
   "metadata": {},
   "outputs": [
    {
     "data": {
      "text/plain": [
       "False"
      ]
     },
     "execution_count": 139,
     "metadata": {},
     "output_type": "execute_result"
    }
   ],
   "source": [
    "prob_fem_above_avg_salary == prob_salary_above_avg * fem_prob"
   ]
  },
  {
   "cell_type": "code",
   "execution_count": 140,
   "id": "b3e3f67e-c9d5-4e8a-8758-cc37153dd3ea",
   "metadata": {},
   "outputs": [
    {
     "data": {
      "text/plain": [
       "25.25"
      ]
     },
     "execution_count": 140,
     "metadata": {},
     "output_type": "execute_result"
    }
   ],
   "source": [
    "mas_applied = df[mas_mask]\n",
    "mas_prob = mas_applied.size / n_rows\n",
    "\n",
    "mas_above_avg_salary = df[mas_mask & above_avg_salary_mask]\n",
    "prob_mas_above_avg_salary = mas_above_avg_salary.size / n_rows\n",
    "round(prob_mas_above_avg_salary * 100, 2)"
   ]
  },
  {
   "cell_type": "code",
   "execution_count": 141,
   "id": "11bb7fbe-90dd-407b-a283-a1705cadcc5f",
   "metadata": {},
   "outputs": [
    {
     "data": {
      "text/plain": [
       "False"
      ]
     },
     "execution_count": 141,
     "metadata": {},
     "output_type": "execute_result"
    }
   ],
   "source": [
    "prob_mas_above_avg_salary == prob_salary_above_avg * mas_prob"
   ]
  },
  {
   "cell_type": "markdown",
   "id": "826a9fa3-1b95-49c0-bd68-40ad33f7f482",
   "metadata": {},
   "source": [
    "## Bayes theorem\n",
    "\n",
    "$\\mathbb{P}(A|B) = \\frac{\\mathbb{P}(B|A) \\mathbb{P}(A)}{\\mathbb{P}(B)}$"
   ]
  }
 ],
 "metadata": {
  "kernelspec": {
   "display_name": "Python 3 (ipykernel)",
   "language": "python",
   "name": "python3"
  },
  "language_info": {
   "codemirror_mode": {
    "name": "ipython",
    "version": 3
   },
   "file_extension": ".py",
   "mimetype": "text/x-python",
   "name": "python",
   "nbconvert_exporter": "python",
   "pygments_lexer": "ipython3",
   "version": "3.9.16"
  }
 },
 "nbformat": 4,
 "nbformat_minor": 5
}
