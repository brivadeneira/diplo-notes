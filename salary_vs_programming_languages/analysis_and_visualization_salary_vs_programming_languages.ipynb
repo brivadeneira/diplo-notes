{
 "cells": [
  {
   "cell_type": "code",
   "execution_count": 24,
   "id": "4b3ffed0-cef6-44cd-9df9-b3cf81ddc734",
   "metadata": {},
   "outputs": [],
   "source": [
    "import itertools\n",
    "\n",
    "import matplotlib.pyplot as plt\n",
    "import numpy as np\n",
    "import pandas as pd\n",
    "import seaborn as sns\n",
    "from matplotlib.ticker import FuncFormatter\n",
    "from pandas.api.types import CategoricalDtype\n",
    "from scipy.stats import expon"
   ]
  },
  {
   "cell_type": "code",
   "execution_count": 25,
   "id": "8270e2e2-9f04-446f-b828-213d32579a11",
   "metadata": {},
   "outputs": [
    {
     "data": {
      "text/html": [
       "<div>\n",
       "<style scoped>\n",
       "    .dataframe tbody tr th:only-of-type {\n",
       "        vertical-align: middle;\n",
       "    }\n",
       "\n",
       "    .dataframe tbody tr th {\n",
       "        vertical-align: top;\n",
       "    }\n",
       "\n",
       "    .dataframe thead th {\n",
       "        text-align: right;\n",
       "    }\n",
       "</style>\n",
       "<table border=\"1\" class=\"dataframe\">\n",
       "  <thead>\n",
       "    <tr style=\"text-align: right;\">\n",
       "      <th></th>\n",
       "      <th>work_province</th>\n",
       "      <th>work_dedication</th>\n",
       "      <th>profile_experience_range</th>\n",
       "      <th>monthly_gross_salary</th>\n",
       "      <th>salary_comparison_last_semester</th>\n",
       "      <th>list_of_tools_platform</th>\n",
       "      <th>list_of_tools_programming_languages</th>\n",
       "      <th>list_of_tools_frameworks</th>\n",
       "      <th>list_of_tools_data_bases</th>\n",
       "      <th>list_of_tools_qa_testing</th>\n",
       "      <th>usd_monthly_gross_salary</th>\n",
       "      <th>mean_salary_in_top_tech</th>\n",
       "      <th>ratio_top_tech</th>\n",
       "    </tr>\n",
       "  </thead>\n",
       "  <tbody>\n",
       "    <tr>\n",
       "      <th>0</th>\n",
       "      <td>Chaco</td>\n",
       "      <td>part-time</td>\n",
       "      <td>0-1</td>\n",
       "      <td>55000.0</td>\n",
       "      <td>2</td>\n",
       "      <td>NaN</td>\n",
       "      <td>['sql']</td>\n",
       "      <td>NaN</td>\n",
       "      <td>['mysql', 'postgresql']</td>\n",
       "      <td>['lippia', 'postman']</td>\n",
       "      <td>209.675575</td>\n",
       "      <td>NaN</td>\n",
       "      <td>NaN</td>\n",
       "    </tr>\n",
       "    <tr>\n",
       "      <th>1</th>\n",
       "      <td>Chaco</td>\n",
       "      <td>part-time</td>\n",
       "      <td>1-2</td>\n",
       "      <td>50000.0</td>\n",
       "      <td>1</td>\n",
       "      <td>['google']</td>\n",
       "      <td>['css', 'html', 'java', 'python', 'sql']</td>\n",
       "      <td>['django', 'spring']</td>\n",
       "      <td>['microsoft azure (tables', 'cosmosdb', 'sql',...</td>\n",
       "      <td>['postman']</td>\n",
       "      <td>190.614159</td>\n",
       "      <td>NaN</td>\n",
       "      <td>NaN</td>\n",
       "    </tr>\n",
       "    <tr>\n",
       "      <th>2</th>\n",
       "      <td>Ciudad Autónoma de Buenos Aires</td>\n",
       "      <td>part-time</td>\n",
       "      <td>0-1</td>\n",
       "      <td>55000.0</td>\n",
       "      <td>4</td>\n",
       "      <td>['docker', 'firebase', 'google cloud platform'...</td>\n",
       "      <td>['javascript', 'python']</td>\n",
       "      <td>['node.js', 'react.js']</td>\n",
       "      <td>['mariadb', 'microsoft sql server', 'mongodb',...</td>\n",
       "      <td>NaN</td>\n",
       "      <td>209.675575</td>\n",
       "      <td>NaN</td>\n",
       "      <td>NaN</td>\n",
       "    </tr>\n",
       "    <tr>\n",
       "      <th>3</th>\n",
       "      <td>Ciudad Autónoma de Buenos Aires</td>\n",
       "      <td>part-time</td>\n",
       "      <td>1-2</td>\n",
       "      <td>222000.0</td>\n",
       "      <td>3</td>\n",
       "      <td>['docker', 'linux']</td>\n",
       "      <td>['javascript', 'python', 'sql']</td>\n",
       "      <td>['django', 'vue.js']</td>\n",
       "      <td>['mariadb', 'postgresql']</td>\n",
       "      <td>['postman']</td>\n",
       "      <td>846.326865</td>\n",
       "      <td>NaN</td>\n",
       "      <td>NaN</td>\n",
       "    </tr>\n",
       "    <tr>\n",
       "      <th>4</th>\n",
       "      <td>Ciudad Autónoma de Buenos Aires</td>\n",
       "      <td>part-time</td>\n",
       "      <td>3-5</td>\n",
       "      <td>120000.0</td>\n",
       "      <td>1</td>\n",
       "      <td>['windows server']</td>\n",
       "      <td>['css', 'python']</td>\n",
       "      <td>['django', 'vue.js']</td>\n",
       "      <td>['mysql', 'sqlite']</td>\n",
       "      <td>['visual studio coded ui', 'xunit']</td>\n",
       "      <td>457.473981</td>\n",
       "      <td>NaN</td>\n",
       "      <td>NaN</td>\n",
       "    </tr>\n",
       "  </tbody>\n",
       "</table>\n",
       "</div>"
      ],
      "text/plain": [
       "                     work_province work_dedication profile_experience_range   \n",
       "0                            Chaco       part-time                      0-1  \\\n",
       "1                            Chaco       part-time                      1-2   \n",
       "2  Ciudad Autónoma de Buenos Aires       part-time                      0-1   \n",
       "3  Ciudad Autónoma de Buenos Aires       part-time                      1-2   \n",
       "4  Ciudad Autónoma de Buenos Aires       part-time                      3-5   \n",
       "\n",
       "   monthly_gross_salary  salary_comparison_last_semester   \n",
       "0               55000.0                                2  \\\n",
       "1               50000.0                                1   \n",
       "2               55000.0                                4   \n",
       "3              222000.0                                3   \n",
       "4              120000.0                                1   \n",
       "\n",
       "                              list_of_tools_platform   \n",
       "0                                                NaN  \\\n",
       "1                                         ['google']   \n",
       "2  ['docker', 'firebase', 'google cloud platform'...   \n",
       "3                                ['docker', 'linux']   \n",
       "4                                 ['windows server']   \n",
       "\n",
       "        list_of_tools_programming_languages list_of_tools_frameworks   \n",
       "0                                   ['sql']                      NaN  \\\n",
       "1  ['css', 'html', 'java', 'python', 'sql']     ['django', 'spring']   \n",
       "2                  ['javascript', 'python']  ['node.js', 'react.js']   \n",
       "3           ['javascript', 'python', 'sql']     ['django', 'vue.js']   \n",
       "4                         ['css', 'python']     ['django', 'vue.js']   \n",
       "\n",
       "                            list_of_tools_data_bases   \n",
       "0                            ['mysql', 'postgresql']  \\\n",
       "1  ['microsoft azure (tables', 'cosmosdb', 'sql',...   \n",
       "2  ['mariadb', 'microsoft sql server', 'mongodb',...   \n",
       "3                          ['mariadb', 'postgresql']   \n",
       "4                                ['mysql', 'sqlite']   \n",
       "\n",
       "              list_of_tools_qa_testing  usd_monthly_gross_salary   \n",
       "0                ['lippia', 'postman']                209.675575  \\\n",
       "1                          ['postman']                190.614159   \n",
       "2                                  NaN                209.675575   \n",
       "3                          ['postman']                846.326865   \n",
       "4  ['visual studio coded ui', 'xunit']                457.473981   \n",
       "\n",
       "   mean_salary_in_top_tech  ratio_top_tech  \n",
       "0                      NaN             NaN  \n",
       "1                      NaN             NaN  \n",
       "2                      NaN             NaN  \n",
       "3                      NaN             NaN  \n",
       "4                      NaN             NaN  "
      ]
     },
     "execution_count": 25,
     "metadata": {},
     "output_type": "execute_result"
    }
   ],
   "source": [
    "# preprocessed dataset\n",
    "\n",
    "# url = 'https://raw.githubusercontent.com/brivadeneira/diplo-notes/main/salary_vs_programming_languages/preprocessed_salaries_dataset.csv'\n",
    "# df = pd.read_csv(url)\n",
    "\n",
    "\n",
    "df = pd.read_csv('preprocessed_salaries_dataset.csv')\n",
    "df.head()"
   ]
  },
  {
   "cell_type": "code",
   "execution_count": 26,
   "id": "3412e2d8-5a44-434d-b07d-fe958034089b",
   "metadata": {},
   "outputs": [
    {
     "data": {
      "text/plain": [
       "Index(['work_province', 'work_dedication', 'profile_experience_range',\n",
       "       'monthly_gross_salary', 'salary_comparison_last_semester',\n",
       "       'list_of_tools_platform', 'list_of_tools_programming_languages',\n",
       "       'list_of_tools_frameworks', 'list_of_tools_data_bases',\n",
       "       'list_of_tools_qa_testing', 'usd_monthly_gross_salary',\n",
       "       'mean_salary_in_top_tech', 'ratio_top_tech'],\n",
       "      dtype='object')"
      ]
     },
     "execution_count": 26,
     "metadata": {},
     "output_type": "execute_result"
    }
   ],
   "source": [
    "df.columns"
   ]
  },
  {
   "cell_type": "markdown",
   "id": "f7c8e088-dba3-4d15-b110-aac4208c14c1",
   "metadata": {},
   "source": [
    "### Columnas y su clasificación\n",
    "\n",
    "- categóricas no ordenadas:\n",
    "    - `work_province`: 24 diferentes strings, 23 por provincia más\n",
    "    - `profile_years_experience`: '0-1', '1-2', '3-5', '6-10', '10+'\n",
    "    - `list_of_tools_platform`: lista de str con las tools según su clasificación\n",
    "    - `list_of_tools_programming_languages`: idem tools_platform.\n",
    "    - `list_of_tools_frameworks`: idem tools_platform.\n",
    "    - `list_of_tools_data_bases`: idem tools_platform.\n",
    "    - `list_of_tools_qa_testing`: idem tools_platform.\n",
    "- categóricas ordenadas:\n",
    "    - `work_dedication`: 'part-time' o 'full-time'\n",
    "    - `salary_comparison_last_semester`: [1, 2, 3, 4]\n",
    "- cuantitativas:\n",
    "    - `monthly_gross_salary`: en ARS\n",
    "    - `usd_monthly_gross_salary`: `monthly_gross_salary` en USD según la conversión detallada en el pre-processing.\n",
    "    - `mean_salary_in_top_tech`: promedio de salario según la lista de lenguajes de programación, extraído del top 10 *ver pre-processing*\n",
    "    - `ratio_top_tech`: relación de cociente entre `usd_monthly_gross_salary` y el salario más alto entre la lista de lenguajes de programación, extraído del top 10 *ver pre-processing*"
   ]
  },
  {
   "cell_type": "code",
   "execution_count": 27,
   "id": "cb572e9f-bca5-4c68-92c8-7f038ecebf07",
   "metadata": {},
   "outputs": [],
   "source": [
    "def human_format(num, pos=1):\n",
    "    \"\"\"\n",
    "    human formatting for big numbers\n",
    "    \"\"\"\n",
    "    magnitude = 0\n",
    "    while abs(num) >= 1000:\n",
    "        magnitude += 1\n",
    "        num /= 1000.0\n",
    "    return \"%.0f%s\" % (num, [\"\", \"K\", \"M\", \"G\", \"T\", \"P\"][magnitude])\n",
    "\n",
    "\n",
    "FORMATTER = FuncFormatter(human_format)"
   ]
  },
  {
   "cell_type": "code",
   "execution_count": 28,
   "id": "05f6e50d-a63d-4853-a7ac-5a4367e84127",
   "metadata": {},
   "outputs": [],
   "source": [
    "FIGSIZE, VSUBPLOTS_FIGSIZE, HSUBPLOTS_FIGSIZE, DPI = (12, 5), (15, 5), (15, 4), 100\n",
    "PASTEL_PALETTE = sns.color_palette('pastel')\n",
    "MAIN_PALETTE = itertools.cycle(PASTEL_PALETTE)\n",
    "CATEGORICAL_PALETTE = sns.color_palette('Set2')\n",
    "SECUENTIAL_PALETTE = sns.color_palette('flare')\n",
    "\n",
    "statistics_of_interest = ['mean', 'std', '25%', '50%', '75%']"
   ]
  },
  {
   "cell_type": "code",
   "execution_count": 32,
   "id": "15bb19f0-a301-440b-9186-799c52015a9a",
   "metadata": {},
   "outputs": [
    {
     "data": {
      "text/plain": [
       "<seaborn.axisgrid.FacetGrid at 0x7f75c740bb20>"
      ]
     },
     "execution_count": 32,
     "metadata": {},
     "output_type": "execute_result"
    },
    {
     "data": {
      "image/png": "[encoded data removed]",
      "text/plain": [
       "<Figure size 500x500 with 1 Axes>"
      ]
     },
     "metadata": {},
     "output_type": "display_data"
    }
   ],
   "source": [
    "sns.catplot(data=df,\n",
    "            y='work_province',\n",
    "            kind='count',\n",
    "            palette=CATEGORICAL_PALETTE,\n",
    "            edgecolor='black')"
   ]
  },
  {
   "cell_type": "markdown",
   "id": "9c1f6dd7-8592-4e37-958f-d290dc838fb9",
   "metadata": {},
   "source": [
    "Se observa, a priori, una distribución desproporcionada por lugar de residencia, *sin mencionar que Ciudad de Buenos Aires no es una provincia*"
   ]
  },
  {
   "cell_type": "markdown",
   "id": "579bbd44-695a-43c6-8ea1-e535d3e7da3e",
   "metadata": {},
   "source": [
    "> \"Elija tres variables numéricas y 2 variables categóricas. Visualice la base según varias de las variables elegidas. Puede describir de alguna forma el comportamiento de sus datos? Que herramientas utilizaría? Describa\""
   ]
  },
  {
   "cell_type": "markdown",
   "id": "a6c9e2fb-520a-4ef9-b109-42e95e965214",
   "metadata": {},
   "source": [
    "Si bien el análisis está enfocado en el sueldo de las personas encuestadas *según el lenguaje de programación*, pero complementado por el resto del stack tecnológico, los años de experiencia y la posible inferencia del costo de vida en el lugar de residencia, y puede resultar algo forzado elegir y analizar pares de variables sólo por su categoría, se visualizan y analizan conjuntamente como sigue:"
   ]
  },
  {
   "cell_type": "code",
   "execution_count": null,
   "id": "92b5c94f-f84e-4dcf-aeff-d823320ef054",
   "metadata": {},
   "outputs": [],
   "source": []
  }
 ],
 "metadata": {
  "kernelspec": {
   "display_name": "Python 3 (ipykernel)",
   "language": "python",
   "name": "python3"
  },
  "language_info": {
   "codemirror_mode": {
    "name": "ipython",
    "version": 3
   },
   "file_extension": ".py",
   "mimetype": "text/x-python",
   "name": "python",
   "nbconvert_exporter": "python",
   "pygments_lexer": "ipython3",
   "version": "3.9.16"
  }
 },
 "nbformat": 4,
 "nbformat_minor": 5
}
