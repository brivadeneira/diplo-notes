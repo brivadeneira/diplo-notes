{
 "cells": [
  {
   "cell_type": "markdown",
   "id": "449f0702-757f-40d5-9110-bdc1aef16ab2",
   "metadata": {},
   "source": [
    "## Multi random variables"
   ]
  },
  {
   "cell_type": "markdown",
   "id": "2957dc97-fd89-4b7e-9a4b-cf0607a88f91",
   "metadata": {},
   "source": [
    "### Crosstab\n",
    "\n",
    "It is used to **inspect relationship** between two or more *categorical or discrete variables*"
   ]
  },
  {
   "cell_type": "code",
   "execution_count": 133,
   "id": "f4f461e7-ccbd-428c-acfb-6d7d1659fa37",
   "metadata": {},
   "outputs": [],
   "source": [
    "import pandas as pd\n",
    "from pandas.api.types import CategoricalDtype\n",
    "import matplotlib.pyplot as plt"
   ]
  },
  {
   "cell_type": "code",
   "execution_count": 134,
   "id": "fb8b38d9-7099-4149-ac3a-a62c5c0187a7",
   "metadata": {},
   "outputs": [
    {
     "data": {
      "text/html": [
       "<div>\n",
       "<style scoped>\n",
       "    .dataframe tbody tr th:only-of-type {\n",
       "        vertical-align: middle;\n",
       "    }\n",
       "\n",
       "    .dataframe tbody tr th {\n",
       "        vertical-align: top;\n",
       "    }\n",
       "\n",
       "    .dataframe thead th {\n",
       "        text-align: right;\n",
       "    }\n",
       "</style>\n",
       "<table border=\"1\" class=\"dataframe\">\n",
       "  <thead>\n",
       "    <tr style=\"text-align: right;\">\n",
       "      <th></th>\n",
       "      <th>work_province</th>\n",
       "      <th>work_dedication</th>\n",
       "      <th>work_contract_type</th>\n",
       "      <th>monthly_gross_salary</th>\n",
       "      <th>monthly_net_salary</th>\n",
       "      <th>numero</th>\n",
       "      <th>salary_in_usd</th>\n",
       "      <th>salary_last_dollar_value</th>\n",
       "      <th>salary_pay_cripto</th>\n",
       "      <th>crypto_salary_percentage</th>\n",
       "      <th>...</th>\n",
       "      <th>profile_studies_level_state</th>\n",
       "      <th>profile_career</th>\n",
       "      <th>profile_university</th>\n",
       "      <th>profile_boot_camp</th>\n",
       "      <th>profile_boot_camp_carrer</th>\n",
       "      <th>work_on_call_duty</th>\n",
       "      <th>salary_on_call_duty_charge</th>\n",
       "      <th>work_on_call_duty_charge_type</th>\n",
       "      <th>profile_age</th>\n",
       "      <th>profile_gender</th>\n",
       "    </tr>\n",
       "  </thead>\n",
       "  <tbody>\n",
       "    <tr>\n",
       "      <th>0</th>\n",
       "      <td>Catamarca</td>\n",
       "      <td>Full-Time</td>\n",
       "      <td>Staff (planta permanente)</td>\n",
       "      <td>300000.0</td>\n",
       "      <td>245000.0</td>\n",
       "      <td>True</td>\n",
       "      <td>NaN</td>\n",
       "      <td>NaN</td>\n",
       "      <td>NaN</td>\n",
       "      <td>NaN</td>\n",
       "      <td>...</td>\n",
       "      <td>Completo</td>\n",
       "      <td>Licenciatura en redes y comunicación de datos</td>\n",
       "      <td>UP - Universidad de Palermo</td>\n",
       "      <td>NaN</td>\n",
       "      <td>NaN</td>\n",
       "      <td>NaN</td>\n",
       "      <td>NaN</td>\n",
       "      <td>NaN</td>\n",
       "      <td>35</td>\n",
       "      <td>varon cis</td>\n",
       "    </tr>\n",
       "    <tr>\n",
       "      <th>1</th>\n",
       "      <td>Chaco</td>\n",
       "      <td>Full-Time</td>\n",
       "      <td>Remoto (empresa de otro país)</td>\n",
       "      <td>900000.0</td>\n",
       "      <td>850000.0</td>\n",
       "      <td>True</td>\n",
       "      <td>Cobro todo el salario en dólares</td>\n",
       "      <td>300</td>\n",
       "      <td>NaN</td>\n",
       "      <td>NaN</td>\n",
       "      <td>...</td>\n",
       "      <td>NaN</td>\n",
       "      <td>NaN</td>\n",
       "      <td>NaN</td>\n",
       "      <td>NaN</td>\n",
       "      <td>NaN</td>\n",
       "      <td>NaN</td>\n",
       "      <td>NaN</td>\n",
       "      <td>NaN</td>\n",
       "      <td>31</td>\n",
       "      <td>varon cis</td>\n",
       "    </tr>\n",
       "    <tr>\n",
       "      <th>2</th>\n",
       "      <td>Chaco</td>\n",
       "      <td>Full-Time</td>\n",
       "      <td>Staff (planta permanente)</td>\n",
       "      <td>120000.0</td>\n",
       "      <td>115000.0</td>\n",
       "      <td>True</td>\n",
       "      <td>NaN</td>\n",
       "      <td>NaN</td>\n",
       "      <td>NaN</td>\n",
       "      <td>NaN</td>\n",
       "      <td>...</td>\n",
       "      <td>NaN</td>\n",
       "      <td>NaN</td>\n",
       "      <td>NaN</td>\n",
       "      <td>NaN</td>\n",
       "      <td>NaN</td>\n",
       "      <td>NaN</td>\n",
       "      <td>NaN</td>\n",
       "      <td>NaN</td>\n",
       "      <td>27</td>\n",
       "      <td>varon cis</td>\n",
       "    </tr>\n",
       "    <tr>\n",
       "      <th>3</th>\n",
       "      <td>Chaco</td>\n",
       "      <td>Full-Time</td>\n",
       "      <td>Remoto (empresa de otro país)</td>\n",
       "      <td>440000.0</td>\n",
       "      <td>0.0</td>\n",
       "      <td>True</td>\n",
       "      <td>Cobro todo el salario en dólares</td>\n",
       "      <td>220</td>\n",
       "      <td>Cobro todo el salario criptomonedas</td>\n",
       "      <td>100%</td>\n",
       "      <td>...</td>\n",
       "      <td>NaN</td>\n",
       "      <td>NaN</td>\n",
       "      <td>NaN</td>\n",
       "      <td>NaN</td>\n",
       "      <td>NaN</td>\n",
       "      <td>NaN</td>\n",
       "      <td>NaN</td>\n",
       "      <td>NaN</td>\n",
       "      <td>21</td>\n",
       "      <td>varon cis</td>\n",
       "    </tr>\n",
       "    <tr>\n",
       "      <th>4</th>\n",
       "      <td>Chaco</td>\n",
       "      <td>Full-Time</td>\n",
       "      <td>Staff (planta permanente)</td>\n",
       "      <td>140000.0</td>\n",
       "      <td>125000.0</td>\n",
       "      <td>True</td>\n",
       "      <td>NaN</td>\n",
       "      <td>NaN</td>\n",
       "      <td>NaN</td>\n",
       "      <td>NaN</td>\n",
       "      <td>...</td>\n",
       "      <td>NaN</td>\n",
       "      <td>NaN</td>\n",
       "      <td>NaN</td>\n",
       "      <td>NaN</td>\n",
       "      <td>NaN</td>\n",
       "      <td>NaN</td>\n",
       "      <td>NaN</td>\n",
       "      <td>NaN</td>\n",
       "      <td>32</td>\n",
       "      <td>varon cis</td>\n",
       "    </tr>\n",
       "  </tbody>\n",
       "</table>\n",
       "<p>5 rows × 43 columns</p>\n",
       "</div>"
      ],
      "text/plain": [
       "  work_province work_dedication             work_contract_type   \n",
       "0     Catamarca       Full-Time      Staff (planta permanente)  \\\n",
       "1         Chaco       Full-Time  Remoto (empresa de otro país)   \n",
       "2         Chaco       Full-Time      Staff (planta permanente)   \n",
       "3         Chaco       Full-Time  Remoto (empresa de otro país)   \n",
       "4         Chaco       Full-Time      Staff (planta permanente)   \n",
       "\n",
       "   monthly_gross_salary  monthly_net_salary  numero   \n",
       "0              300000.0            245000.0    True  \\\n",
       "1              900000.0            850000.0    True   \n",
       "2              120000.0            115000.0    True   \n",
       "3              440000.0                 0.0    True   \n",
       "4              140000.0            125000.0    True   \n",
       "\n",
       "                      salary_in_usd salary_last_dollar_value   \n",
       "0                               NaN                      NaN  \\\n",
       "1  Cobro todo el salario en dólares                      300   \n",
       "2                               NaN                      NaN   \n",
       "3  Cobro todo el salario en dólares                      220   \n",
       "4                               NaN                      NaN   \n",
       "\n",
       "                     salary_pay_cripto crypto_salary_percentage  ...   \n",
       "0                                  NaN                      NaN  ...  \\\n",
       "1                                  NaN                      NaN  ...   \n",
       "2                                  NaN                      NaN  ...   \n",
       "3  Cobro todo el salario criptomonedas                     100%  ...   \n",
       "4                                  NaN                      NaN  ...   \n",
       "\n",
       "  profile_studies_level_state                                 profile_career   \n",
       "0                    Completo  Licenciatura en redes y comunicación de datos  \\\n",
       "1                         NaN                                            NaN   \n",
       "2                         NaN                                            NaN   \n",
       "3                         NaN                                            NaN   \n",
       "4                         NaN                                            NaN   \n",
       "\n",
       "            profile_university profile_boot_camp profile_boot_camp_carrer   \n",
       "0  UP - Universidad de Palermo               NaN                      NaN  \\\n",
       "1                          NaN               NaN                      NaN   \n",
       "2                          NaN               NaN                      NaN   \n",
       "3                          NaN               NaN                      NaN   \n",
       "4                          NaN               NaN                      NaN   \n",
       "\n",
       "   work_on_call_duty salary_on_call_duty_charge   \n",
       "0                NaN                        NaN  \\\n",
       "1                NaN                        NaN   \n",
       "2                NaN                        NaN   \n",
       "3                NaN                        NaN   \n",
       "4                NaN                        NaN   \n",
       "\n",
       "   work_on_call_duty_charge_type profile_age  profile_gender  \n",
       "0                            NaN          35       varon cis  \n",
       "1                            NaN          31       varon cis  \n",
       "2                            NaN          27       varon cis  \n",
       "3                            NaN          21       varon cis  \n",
       "4                            NaN          32       varon cis  \n",
       "\n",
       "[5 rows x 43 columns]"
      ]
     },
     "execution_count": 134,
     "metadata": {},
     "output_type": "execute_result"
    }
   ],
   "source": [
    "df = pd.read_csv('sysarmy_tech_salary_survey_2022.csv')\n",
    "df.head()"
   ]
  },
  {
   "cell_type": "code",
   "execution_count": 135,
   "id": "dea08be7-b50f-4412-9a67-2494d42a659f",
   "metadata": {},
   "outputs": [
    {
     "data": {
      "text/plain": [
       "array(['Universitario', nan, 'Terciario', 'Secundario',\n",
       "       'Posgrado/Especialización', 'Maestría', 'Doctorado',\n",
       "       'Posdoctorado'], dtype=object)"
      ]
     },
     "execution_count": 135,
     "metadata": {},
     "output_type": "execute_result"
    }
   ],
   "source": [
    "df.profile_studies_level.unique()"
   ]
  },
  {
   "cell_type": "code",
   "execution_count": 136,
   "id": "867e9c1d-24cc-4738-969b-31e17271e0c2",
   "metadata": {},
   "outputs": [],
   "source": [
    "studies_cat = CategoricalDtype(categories=['Secundario',\n",
    "                                           'Terciario',\n",
    "                                           'Universitario',\n",
    "                                           'Posgrado/Especialización',\n",
    "                                           'Maestría',\n",
    "                                           'Doctorado',\n",
    "                                           'Posdoctorado'], ordered=True)"
   ]
  },
  {
   "cell_type": "code",
   "execution_count": 137,
   "id": "7d2b5a1b-1255-45e0-8ebc-f7b671c88b95",
   "metadata": {},
   "outputs": [],
   "source": [
    "df.profile_studies_level = df.profile_studies_level.astype(studies_cat)"
   ]
  },
  {
   "cell_type": "code",
   "execution_count": 138,
   "id": "51bf3b3c-0fa9-4ec2-92a7-05656c10dfa8",
   "metadata": {},
   "outputs": [
    {
     "data": {
      "text/plain": [
       "['Universitario', NaN, 'Terciario', 'Secundario', 'Posgrado/Especialización', 'Maestría', 'Doctorado', 'Posdoctorado']\n",
       "Categories (7, object): ['Secundario' < 'Terciario' < 'Universitario' < 'Posgrado/Especialización' < 'Maestría' < 'Doctorado' < 'Posdoctorado']"
      ]
     },
     "execution_count": 138,
     "metadata": {},
     "output_type": "execute_result"
    }
   ],
   "source": [
    "df.profile_studies_level.unique()"
   ]
  },
  {
   "cell_type": "code",
   "execution_count": 139,
   "id": "13f9aa21-8e31-455a-96cd-61f36664d392",
   "metadata": {},
   "outputs": [
    {
     "data": {
      "text/html": [
       "<div>\n",
       "<style scoped>\n",
       "    .dataframe tbody tr th:only-of-type {\n",
       "        vertical-align: middle;\n",
       "    }\n",
       "\n",
       "    .dataframe tbody tr th {\n",
       "        vertical-align: top;\n",
       "    }\n",
       "\n",
       "    .dataframe thead th {\n",
       "        text-align: right;\n",
       "    }\n",
       "</style>\n",
       "<table border=\"1\" class=\"dataframe\">\n",
       "  <thead>\n",
       "    <tr style=\"text-align: right;\">\n",
       "      <th>profile_studies_level</th>\n",
       "      <th>Secundario</th>\n",
       "      <th>Terciario</th>\n",
       "      <th>Universitario</th>\n",
       "      <th>Posgrado/Especialización</th>\n",
       "      <th>Maestría</th>\n",
       "      <th>Doctorado</th>\n",
       "      <th>Posdoctorado</th>\n",
       "    </tr>\n",
       "    <tr>\n",
       "      <th>profile_gender</th>\n",
       "      <th></th>\n",
       "      <th></th>\n",
       "      <th></th>\n",
       "      <th></th>\n",
       "      <th></th>\n",
       "      <th></th>\n",
       "      <th></th>\n",
       "    </tr>\n",
       "  </thead>\n",
       "  <tbody>\n",
       "    <tr>\n",
       "      <th>diversidades</th>\n",
       "      <td>7</td>\n",
       "      <td>8</td>\n",
       "      <td>29</td>\n",
       "      <td>4</td>\n",
       "      <td>1</td>\n",
       "      <td>0</td>\n",
       "      <td>0</td>\n",
       "    </tr>\n",
       "    <tr>\n",
       "      <th>mujer cis</th>\n",
       "      <td>10</td>\n",
       "      <td>90</td>\n",
       "      <td>354</td>\n",
       "      <td>55</td>\n",
       "      <td>13</td>\n",
       "      <td>5</td>\n",
       "      <td>1</td>\n",
       "    </tr>\n",
       "    <tr>\n",
       "      <th>varon cis</th>\n",
       "      <td>125</td>\n",
       "      <td>332</td>\n",
       "      <td>1428</td>\n",
       "      <td>91</td>\n",
       "      <td>87</td>\n",
       "      <td>16</td>\n",
       "      <td>3</td>\n",
       "    </tr>\n",
       "  </tbody>\n",
       "</table>\n",
       "</div>"
      ],
      "text/plain": [
       "profile_studies_level  Secundario  Terciario  Universitario   \n",
       "profile_gender                                                \n",
       "diversidades                    7          8             29  \\\n",
       "mujer cis                      10         90            354   \n",
       "varon cis                     125        332           1428   \n",
       "\n",
       "profile_studies_level  Posgrado/Especialización  Maestría  Doctorado   \n",
       "profile_gender                                                         \n",
       "diversidades                                  4         1          0  \\\n",
       "mujer cis                                    55        13          5   \n",
       "varon cis                                    91        87         16   \n",
       "\n",
       "profile_studies_level  Posdoctorado  \n",
       "profile_gender                       \n",
       "diversidades                      0  \n",
       "mujer cis                         1  \n",
       "varon cis                         3  "
      ]
     },
     "execution_count": 139,
     "metadata": {},
     "output_type": "execute_result"
    }
   ],
   "source": [
    "pd.crosstab(df.profile_gender, df.profile_studies_level)"
   ]
  },
  {
   "cell_type": "code",
   "execution_count": 140,
   "id": "a6bb293c-e514-4361-aca2-c6f8583ad892",
   "metadata": {},
   "outputs": [
    {
     "data": {
      "text/html": [
       "<style type=\"text/css\">\n",
       "#T_c9c9f_row0_col0, #T_c9c9f_row0_col1, #T_c9c9f_row0_col2, #T_c9c9f_row0_col3, #T_c9c9f_row0_col4, #T_c9c9f_row0_col5, #T_c9c9f_row0_col6 {\n",
       "  background-color: #fff7fb;\n",
       "  color: #000000;\n",
       "}\n",
       "#T_c9c9f_row1_col0 {\n",
       "  background-color: #fbf4f9;\n",
       "  color: #000000;\n",
       "}\n",
       "#T_c9c9f_row1_col1 {\n",
       "  background-color: #d0d1e6;\n",
       "  color: #000000;\n",
       "}\n",
       "#T_c9c9f_row1_col2 {\n",
       "  background-color: #d4d4e8;\n",
       "  color: #000000;\n",
       "}\n",
       "#T_c9c9f_row1_col3 {\n",
       "  background-color: #4897c4;\n",
       "  color: #f1f1f1;\n",
       "}\n",
       "#T_c9c9f_row1_col4 {\n",
       "  background-color: #e9e5f1;\n",
       "  color: #000000;\n",
       "}\n",
       "#T_c9c9f_row1_col5 {\n",
       "  background-color: #bbc7e0;\n",
       "  color: #000000;\n",
       "}\n",
       "#T_c9c9f_row1_col6 {\n",
       "  background-color: #b4c4df;\n",
       "  color: #000000;\n",
       "}\n",
       "#T_c9c9f_row2_col0, #T_c9c9f_row2_col1, #T_c9c9f_row2_col2, #T_c9c9f_row2_col3, #T_c9c9f_row2_col4, #T_c9c9f_row2_col5, #T_c9c9f_row2_col6 {\n",
       "  background-color: #023858;\n",
       "  color: #f1f1f1;\n",
       "}\n",
       "</style>\n",
       "<table id=\"T_c9c9f\">\n",
       "  <thead>\n",
       "    <tr>\n",
       "      <th class=\"index_name level0\" >profile_studies_level</th>\n",
       "      <th id=\"T_c9c9f_level0_col0\" class=\"col_heading level0 col0\" >Secundario</th>\n",
       "      <th id=\"T_c9c9f_level0_col1\" class=\"col_heading level0 col1\" >Terciario</th>\n",
       "      <th id=\"T_c9c9f_level0_col2\" class=\"col_heading level0 col2\" >Universitario</th>\n",
       "      <th id=\"T_c9c9f_level0_col3\" class=\"col_heading level0 col3\" >Posgrado/Especialización</th>\n",
       "      <th id=\"T_c9c9f_level0_col4\" class=\"col_heading level0 col4\" >Maestría</th>\n",
       "      <th id=\"T_c9c9f_level0_col5\" class=\"col_heading level0 col5\" >Doctorado</th>\n",
       "      <th id=\"T_c9c9f_level0_col6\" class=\"col_heading level0 col6\" >Posdoctorado</th>\n",
       "    </tr>\n",
       "    <tr>\n",
       "      <th class=\"index_name level0\" >profile_gender</th>\n",
       "      <th class=\"blank col0\" >&nbsp;</th>\n",
       "      <th class=\"blank col1\" >&nbsp;</th>\n",
       "      <th class=\"blank col2\" >&nbsp;</th>\n",
       "      <th class=\"blank col3\" >&nbsp;</th>\n",
       "      <th class=\"blank col4\" >&nbsp;</th>\n",
       "      <th class=\"blank col5\" >&nbsp;</th>\n",
       "      <th class=\"blank col6\" >&nbsp;</th>\n",
       "    </tr>\n",
       "  </thead>\n",
       "  <tbody>\n",
       "    <tr>\n",
       "      <th id=\"T_c9c9f_level0_row0\" class=\"row_heading level0 row0\" >diversidades</th>\n",
       "      <td id=\"T_c9c9f_row0_col0\" class=\"data row0 col0\" >7</td>\n",
       "      <td id=\"T_c9c9f_row0_col1\" class=\"data row0 col1\" >8</td>\n",
       "      <td id=\"T_c9c9f_row0_col2\" class=\"data row0 col2\" >29</td>\n",
       "      <td id=\"T_c9c9f_row0_col3\" class=\"data row0 col3\" >4</td>\n",
       "      <td id=\"T_c9c9f_row0_col4\" class=\"data row0 col4\" >1</td>\n",
       "      <td id=\"T_c9c9f_row0_col5\" class=\"data row0 col5\" >0</td>\n",
       "      <td id=\"T_c9c9f_row0_col6\" class=\"data row0 col6\" >0</td>\n",
       "    </tr>\n",
       "    <tr>\n",
       "      <th id=\"T_c9c9f_level0_row1\" class=\"row_heading level0 row1\" >mujer cis</th>\n",
       "      <td id=\"T_c9c9f_row1_col0\" class=\"data row1 col0\" >10</td>\n",
       "      <td id=\"T_c9c9f_row1_col1\" class=\"data row1 col1\" >90</td>\n",
       "      <td id=\"T_c9c9f_row1_col2\" class=\"data row1 col2\" >354</td>\n",
       "      <td id=\"T_c9c9f_row1_col3\" class=\"data row1 col3\" >55</td>\n",
       "      <td id=\"T_c9c9f_row1_col4\" class=\"data row1 col4\" >13</td>\n",
       "      <td id=\"T_c9c9f_row1_col5\" class=\"data row1 col5\" >5</td>\n",
       "      <td id=\"T_c9c9f_row1_col6\" class=\"data row1 col6\" >1</td>\n",
       "    </tr>\n",
       "    <tr>\n",
       "      <th id=\"T_c9c9f_level0_row2\" class=\"row_heading level0 row2\" >varon cis</th>\n",
       "      <td id=\"T_c9c9f_row2_col0\" class=\"data row2 col0\" >125</td>\n",
       "      <td id=\"T_c9c9f_row2_col1\" class=\"data row2 col1\" >332</td>\n",
       "      <td id=\"T_c9c9f_row2_col2\" class=\"data row2 col2\" >1428</td>\n",
       "      <td id=\"T_c9c9f_row2_col3\" class=\"data row2 col3\" >91</td>\n",
       "      <td id=\"T_c9c9f_row2_col4\" class=\"data row2 col4\" >87</td>\n",
       "      <td id=\"T_c9c9f_row2_col5\" class=\"data row2 col5\" >16</td>\n",
       "      <td id=\"T_c9c9f_row2_col6\" class=\"data row2 col6\" >3</td>\n",
       "    </tr>\n",
       "  </tbody>\n",
       "</table>\n"
      ],
      "text/plain": [
       "<pandas.io.formats.style.Styler at 0x7f2affd1f8e0>"
      ]
     },
     "execution_count": 140,
     "metadata": {},
     "output_type": "execute_result"
    }
   ],
   "source": [
    "pd.crosstab(\n",
    "    df.profile_gender, df.profile_studies_level, \n",
    ").style.background_gradient(axis=0)  "
   ]
  },
  {
   "cell_type": "code",
   "execution_count": 141,
   "id": "46fbf0b1-db71-47f3-befe-d8bd035aee8a",
   "metadata": {},
   "outputs": [
    {
     "data": {
      "text/html": [
       "<style type=\"text/css\">\n",
       "#T_e4072_row0_col0 {\n",
       "  background-color: #d2d3e7;\n",
       "  color: #000000;\n",
       "}\n",
       "#T_e4072_row0_col1 {\n",
       "  background-color: #fbf4f9;\n",
       "  color: #000000;\n",
       "}\n",
       "#T_e4072_row0_col2 {\n",
       "  background-color: #f2ecf5;\n",
       "  color: #000000;\n",
       "}\n",
       "#T_e4072_row1_col0 {\n",
       "  background-color: #c8cde4;\n",
       "  color: #000000;\n",
       "}\n",
       "#T_e4072_row1_col1 {\n",
       "  background-color: #d0d1e6;\n",
       "  color: #000000;\n",
       "}\n",
       "#T_e4072_row1_col2 {\n",
       "  background-color: #d4d4e8;\n",
       "  color: #000000;\n",
       "}\n",
       "#T_e4072_row2_col0, #T_e4072_row2_col1, #T_e4072_row2_col2 {\n",
       "  background-color: #023858;\n",
       "  color: #f1f1f1;\n",
       "}\n",
       "#T_e4072_row3_col0 {\n",
       "  background-color: #e9e5f1;\n",
       "  color: #000000;\n",
       "}\n",
       "#T_e4072_row3_col1 {\n",
       "  background-color: #e6e2ef;\n",
       "  color: #000000;\n",
       "}\n",
       "#T_e4072_row3_col2, #T_e4072_row4_col2 {\n",
       "  background-color: #f6eff7;\n",
       "  color: #000000;\n",
       "}\n",
       "#T_e4072_row4_col0, #T_e4072_row4_col1 {\n",
       "  background-color: #faf3f9;\n",
       "  color: #000000;\n",
       "}\n",
       "#T_e4072_row5_col0, #T_e4072_row6_col0, #T_e4072_row6_col1, #T_e4072_row6_col2 {\n",
       "  background-color: #fff7fb;\n",
       "  color: #000000;\n",
       "}\n",
       "#T_e4072_row5_col1, #T_e4072_row5_col2 {\n",
       "  background-color: #fef6fa;\n",
       "  color: #000000;\n",
       "}\n",
       "</style>\n",
       "<table id=\"T_e4072\">\n",
       "  <thead>\n",
       "    <tr>\n",
       "      <th class=\"index_name level0\" >profile_gender</th>\n",
       "      <th id=\"T_e4072_level0_col0\" class=\"col_heading level0 col0\" >diversidades</th>\n",
       "      <th id=\"T_e4072_level0_col1\" class=\"col_heading level0 col1\" >mujer cis</th>\n",
       "      <th id=\"T_e4072_level0_col2\" class=\"col_heading level0 col2\" >varon cis</th>\n",
       "    </tr>\n",
       "    <tr>\n",
       "      <th class=\"index_name level0\" >profile_studies_level</th>\n",
       "      <th class=\"blank col0\" >&nbsp;</th>\n",
       "      <th class=\"blank col1\" >&nbsp;</th>\n",
       "      <th class=\"blank col2\" >&nbsp;</th>\n",
       "    </tr>\n",
       "  </thead>\n",
       "  <tbody>\n",
       "    <tr>\n",
       "      <th id=\"T_e4072_level0_row0\" class=\"row_heading level0 row0\" >Secundario</th>\n",
       "      <td id=\"T_e4072_row0_col0\" class=\"data row0 col0\" >0.002633</td>\n",
       "      <td id=\"T_e4072_row0_col1\" class=\"data row0 col1\" >0.003761</td>\n",
       "      <td id=\"T_e4072_row0_col2\" class=\"data row0 col2\" >0.047010</td>\n",
       "    </tr>\n",
       "    <tr>\n",
       "      <th id=\"T_e4072_level0_row1\" class=\"row_heading level0 row1\" >Terciario</th>\n",
       "      <td id=\"T_e4072_row1_col0\" class=\"data row1 col0\" >0.003009</td>\n",
       "      <td id=\"T_e4072_row1_col1\" class=\"data row1 col1\" >0.033847</td>\n",
       "      <td id=\"T_e4072_row1_col2\" class=\"data row1 col2\" >0.124859</td>\n",
       "    </tr>\n",
       "    <tr>\n",
       "      <th id=\"T_e4072_level0_row2\" class=\"row_heading level0 row2\" >Universitario</th>\n",
       "      <td id=\"T_e4072_row2_col0\" class=\"data row2 col0\" >0.010906</td>\n",
       "      <td id=\"T_e4072_row2_col1\" class=\"data row2 col1\" >0.133133</td>\n",
       "      <td id=\"T_e4072_row2_col2\" class=\"data row2 col2\" >0.537044</td>\n",
       "    </tr>\n",
       "    <tr>\n",
       "      <th id=\"T_e4072_level0_row3\" class=\"row_heading level0 row3\" >Posgrado/Especialización</th>\n",
       "      <td id=\"T_e4072_row3_col0\" class=\"data row3 col0\" >0.001504</td>\n",
       "      <td id=\"T_e4072_row3_col1\" class=\"data row3 col1\" >0.020684</td>\n",
       "      <td id=\"T_e4072_row3_col2\" class=\"data row3 col2\" >0.034223</td>\n",
       "    </tr>\n",
       "    <tr>\n",
       "      <th id=\"T_e4072_level0_row4\" class=\"row_heading level0 row4\" >Maestría</th>\n",
       "      <td id=\"T_e4072_row4_col0\" class=\"data row4 col0\" >0.000376</td>\n",
       "      <td id=\"T_e4072_row4_col1\" class=\"data row4 col1\" >0.004889</td>\n",
       "      <td id=\"T_e4072_row4_col2\" class=\"data row4 col2\" >0.032719</td>\n",
       "    </tr>\n",
       "    <tr>\n",
       "      <th id=\"T_e4072_level0_row5\" class=\"row_heading level0 row5\" >Doctorado</th>\n",
       "      <td id=\"T_e4072_row5_col0\" class=\"data row5 col0\" >0.000000</td>\n",
       "      <td id=\"T_e4072_row5_col1\" class=\"data row5 col1\" >0.001880</td>\n",
       "      <td id=\"T_e4072_row5_col2\" class=\"data row5 col2\" >0.006017</td>\n",
       "    </tr>\n",
       "    <tr>\n",
       "      <th id=\"T_e4072_level0_row6\" class=\"row_heading level0 row6\" >Posdoctorado</th>\n",
       "      <td id=\"T_e4072_row6_col0\" class=\"data row6 col0\" >0.000000</td>\n",
       "      <td id=\"T_e4072_row6_col1\" class=\"data row6 col1\" >0.000376</td>\n",
       "      <td id=\"T_e4072_row6_col2\" class=\"data row6 col2\" >0.001128</td>\n",
       "    </tr>\n",
       "  </tbody>\n",
       "</table>\n"
      ],
      "text/plain": [
       "<pandas.io.formats.style.Styler at 0x7f2af9cf5dc0>"
      ]
     },
     "execution_count": 141,
     "metadata": {},
     "output_type": "execute_result"
    }
   ],
   "source": [
    "gender_vs_studies_crosstab = pd.crosstab(\n",
    "    df.profile_studies_level, df.profile_gender, normalize=True\n",
    ")\n",
    "\n",
    "gender_vs_studies_crosstab.style.background_gradient(axis=0)  "
   ]
  },
  {
   "cell_type": "markdown",
   "id": "e1ed0779-2f15-4221-81e2-4c233a02e56a",
   "metadata": {},
   "source": [
    "### Multivariable hist"
   ]
  },
  {
   "cell_type": "code",
   "execution_count": 142,
   "id": "3bbfb01e-53e6-45cd-a812-f44efa46b190",
   "metadata": {},
   "outputs": [
    {
     "data": {
      "image/png": "[encoded data removed]",
      "text/plain": [
       "<Figure size 1200x700 with 1 Axes>"
      ]
     },
     "metadata": {},
     "output_type": "display_data"
    }
   ],
   "source": [
    "ax = gender_vs_studies_crosstab.plot.bar(rot=0, grid=True, figsize=(12, 7))"
   ]
  },
  {
   "cell_type": "markdown",
   "id": "ff53f9d5-106d-40c7-bde0-62fe5d00ead7",
   "metadata": {},
   "source": [
    "### Multivariable scatter"
   ]
  },
  {
   "cell_type": "code",
   "execution_count": 113,
   "id": "7fbd95d8-2f00-4cd2-8cc4-c32d026c06bd",
   "metadata": {},
   "outputs": [
    {
     "data": {
      "text/plain": [
       "Index(['work_province', 'work_dedication', 'work_contract_type',\n",
       "       'monthly_gross_salary', 'monthly_net_salary', 'numero', 'salary_in_usd',\n",
       "       'salary_last_dollar_value', 'salary_pay_cripto',\n",
       "       'crypto_salary_percentage', 'salary_has_bonus', 'salary_bonus_tied_to',\n",
       "       'salary_inflation_adjustment', 'salary_percentage_inflation_adjustment',\n",
       "       'salary_month_last_inflation_adjustment',\n",
       "       'salary_comparison_last_semester', 'salary_benefit',\n",
       "       'salary_satisfaction', 'role', 'profile_years_experience',\n",
       "       'work_years_in_company', 'work_years_in_current_position',\n",
       "       'work_people_in_charge_of', 'tools_platform',\n",
       "       'tools_programming_languages', 'tools_frameworks', 'tools_data_bases',\n",
       "       'tools_qa_testing', 'company_employee_number', 'work_work_modality',\n",
       "       'hybrid_office_hours_per_week', 'company_recommended',\n",
       "       'profile_studies_level', 'profile_studies_level_state',\n",
       "       'profile_career', 'profile_university', 'profile_boot_camp',\n",
       "       'profile_boot_camp_carrer', 'work_on_call_duty',\n",
       "       'salary_on_call_duty_charge', 'work_on_call_duty_charge_type',\n",
       "       'profile_age', 'profile_gender'],\n",
       "      dtype='object')"
      ]
     },
     "execution_count": 113,
     "metadata": {},
     "output_type": "execute_result"
    }
   ],
   "source": [
    "df.columns"
   ]
  },
  {
   "cell_type": "code",
   "execution_count": 178,
   "id": "2b06a045-5494-4627-9c48-38a587138711",
   "metadata": {},
   "outputs": [
    {
     "data": {
      "text/plain": [
       "<Axes: xlabel='profile_age', ylabel='monthly_gross_salary'>"
      ]
     },
     "execution_count": 178,
     "metadata": {},
     "output_type": "execute_result"
    },
    {
     "data": {
      "image/png": "[encoded data removed]",
      "text/plain": [
       "<Figure size 1200x500 with 2 Axes>"
      ]
     },
     "metadata": {},
     "output_type": "display_data"
    }
   ],
   "source": [
    "fig, axes = plt.subplots(nrows=1, ncols=2)\n",
    "fig.set_size_inches(12, 5)\n",
    "\n",
    "df[['monthly_net_salary', 'profile_age']].plot(ax=axes[0], kind='scatter',\n",
    "                                               x='profile_age', y='monthly_net_salary',\n",
    "                                              grid=True)\n",
    "\n",
    "df[['profile_age', 'monthly_gross_salary']].plot(ax=axes[1], kind='scatter',\n",
    "                                                        x='profile_age', y='monthly_gross_salary',\n",
    "                                                sharex=True, grid=True)"
   ]
  },
  {
   "cell_type": "code",
   "execution_count": 180,
   "id": "22bde620-8830-4569-beb1-25398c836d7a",
   "metadata": {},
   "outputs": [
    {
     "data": {
      "text/plain": [
       "<Axes: xlabel='monthly_net_salary', ylabel='monthly_gross_salary'>"
      ]
     },
     "execution_count": 180,
     "metadata": {},
     "output_type": "execute_result"
    },
    {
     "data": {
      "image/png": "[encoded data removed]",
      "text/plain": [
       "<Figure size 640x480 with 1 Axes>"
      ]
     },
     "metadata": {},
     "output_type": "display_data"
    }
   ],
   "source": [
    "df[['monthly_net_salary', 'monthly_gross_salary']].plot(kind='scatter',\n",
    "                                               x='monthly_net_salary', y='monthly_gross_salary',\n",
    "                                              grid=True)"
   ]
  }
 ],
 "metadata": {
  "kernelspec": {
   "display_name": "Python 3 (ipykernel)",
   "language": "python",
   "name": "python3"
  },
  "language_info": {
   "codemirror_mode": {
    "name": "ipython",
    "version": 3
   },
   "file_extension": ".py",
   "mimetype": "text/x-python",
   "name": "python",
   "nbconvert_exporter": "python",
   "pygments_lexer": "ipython3",
   "version": "3.9.16"
  }
 },
 "nbformat": 4,
 "nbformat_minor": 5
}
