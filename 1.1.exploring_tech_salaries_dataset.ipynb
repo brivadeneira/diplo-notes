{
 "cells": [
  {
   "cell_type": "markdown",
   "id": "365475d1-ab59-4a44-9bab-9754673b7e1f",
   "metadata": {},
   "source": [
    "# Apuntes diplo\n",
    "\n",
    "## Análisis y visualización de datos"
   ]
  },
  {
   "cell_type": "code",
   "execution_count": 481,
   "id": "ecb39f96-c7e1-4849-a6ca-0f58f466bcd0",
   "metadata": {},
   "outputs": [],
   "source": [
    "# ! pip install -r requirements.txt"
   ]
  },
  {
   "cell_type": "code",
   "execution_count": 482,
   "id": "a479fb09-85bc-4620-a68d-5f277d4d56a1",
   "metadata": {},
   "outputs": [],
   "source": [
    "import pandas as pd\n",
    "import matplotlib.pyplot as plt"
   ]
  },
  {
   "cell_type": "code",
   "execution_count": 483,
   "id": "86a882d0-d0bd-42e4-b296-d84aa66ba063",
   "metadata": {},
   "outputs": [],
   "source": [
    "url ='https://raw.githubusercontent.com/DiploDatos/AnalisisyVisualizacion/master/sysarmy_survey_2022_processed.csv'\n",
    "df = pd.read_csv(url)"
   ]
  },
  {
   "cell_type": "code",
   "execution_count": 484,
   "id": "cf34cfeb-6d16-4321-8628-ccece13596d1",
   "metadata": {},
   "outputs": [
    {
     "data": {
      "text/html": [
       "<div>\n",
       "<style scoped>\n",
       "    .dataframe tbody tr th:only-of-type {\n",
       "        vertical-align: middle;\n",
       "    }\n",
       "\n",
       "    .dataframe tbody tr th {\n",
       "        vertical-align: top;\n",
       "    }\n",
       "\n",
       "    .dataframe thead th {\n",
       "        text-align: right;\n",
       "    }\n",
       "</style>\n",
       "<table border=\"1\" class=\"dataframe\">\n",
       "  <thead>\n",
       "    <tr style=\"text-align: right;\">\n",
       "      <th></th>\n",
       "      <th>work_country</th>\n",
       "      <th>work_province</th>\n",
       "      <th>work_dedication</th>\n",
       "      <th>work_contract_type</th>\n",
       "      <th>salary_monthly_BRUTO</th>\n",
       "      <th>salary_monthly_NETO</th>\n",
       "      <th>numero</th>\n",
       "      <th>salary_in_usd</th>\n",
       "      <th>salary_last_dollar_value</th>\n",
       "      <th>salary_pay_cripto</th>\n",
       "      <th>...</th>\n",
       "      <th>profile_studies_level_state</th>\n",
       "      <th>profile_career</th>\n",
       "      <th>profile_university</th>\n",
       "      <th>profile_boot_camp</th>\n",
       "      <th>profile_boot_camp_carrer</th>\n",
       "      <th>work_on_call_duty</th>\n",
       "      <th>salary_on_call_duty_charge</th>\n",
       "      <th>work_on_call_duty_charge_type</th>\n",
       "      <th>profile_age</th>\n",
       "      <th>profile_gender</th>\n",
       "    </tr>\n",
       "  </thead>\n",
       "  <tbody>\n",
       "    <tr>\n",
       "      <th>0</th>\n",
       "      <td>Argentina</td>\n",
       "      <td>Catamarca</td>\n",
       "      <td>Full-Time</td>\n",
       "      <td>Staff (planta permanente)</td>\n",
       "      <td>300000.0</td>\n",
       "      <td>245000.0</td>\n",
       "      <td>True</td>\n",
       "      <td>NaN</td>\n",
       "      <td>NaN</td>\n",
       "      <td>NaN</td>\n",
       "      <td>...</td>\n",
       "      <td>Completo</td>\n",
       "      <td>Licenciatura en redes y comunicación de datos</td>\n",
       "      <td>UP - Universidad de Palermo</td>\n",
       "      <td>NaN</td>\n",
       "      <td>NaN</td>\n",
       "      <td>NaN</td>\n",
       "      <td>NaN</td>\n",
       "      <td>NaN</td>\n",
       "      <td>35</td>\n",
       "      <td>Varón Cis</td>\n",
       "    </tr>\n",
       "    <tr>\n",
       "      <th>1</th>\n",
       "      <td>Argentina</td>\n",
       "      <td>Chaco</td>\n",
       "      <td>Full-Time</td>\n",
       "      <td>Remoto (empresa de otro país)</td>\n",
       "      <td>900000.0</td>\n",
       "      <td>850000.0</td>\n",
       "      <td>True</td>\n",
       "      <td>Cobro todo el salario en dólares</td>\n",
       "      <td>300</td>\n",
       "      <td>NaN</td>\n",
       "      <td>...</td>\n",
       "      <td>NaN</td>\n",
       "      <td>NaN</td>\n",
       "      <td>NaN</td>\n",
       "      <td>NaN</td>\n",
       "      <td>NaN</td>\n",
       "      <td>NaN</td>\n",
       "      <td>NaN</td>\n",
       "      <td>NaN</td>\n",
       "      <td>31</td>\n",
       "      <td>Varón Cis</td>\n",
       "    </tr>\n",
       "    <tr>\n",
       "      <th>2</th>\n",
       "      <td>Argentina</td>\n",
       "      <td>Chaco</td>\n",
       "      <td>Full-Time</td>\n",
       "      <td>Staff (planta permanente)</td>\n",
       "      <td>120000.0</td>\n",
       "      <td>115000.0</td>\n",
       "      <td>True</td>\n",
       "      <td>NaN</td>\n",
       "      <td>NaN</td>\n",
       "      <td>NaN</td>\n",
       "      <td>...</td>\n",
       "      <td>NaN</td>\n",
       "      <td>NaN</td>\n",
       "      <td>NaN</td>\n",
       "      <td>NaN</td>\n",
       "      <td>NaN</td>\n",
       "      <td>NaN</td>\n",
       "      <td>NaN</td>\n",
       "      <td>NaN</td>\n",
       "      <td>27</td>\n",
       "      <td>Varón Cis</td>\n",
       "    </tr>\n",
       "    <tr>\n",
       "      <th>3</th>\n",
       "      <td>Argentina</td>\n",
       "      <td>Chaco</td>\n",
       "      <td>Full-Time</td>\n",
       "      <td>Remoto (empresa de otro país)</td>\n",
       "      <td>440000.0</td>\n",
       "      <td>0.0</td>\n",
       "      <td>True</td>\n",
       "      <td>Cobro todo el salario en dólares</td>\n",
       "      <td>220</td>\n",
       "      <td>Cobro todo el salario criptomonedas</td>\n",
       "      <td>...</td>\n",
       "      <td>NaN</td>\n",
       "      <td>NaN</td>\n",
       "      <td>NaN</td>\n",
       "      <td>NaN</td>\n",
       "      <td>NaN</td>\n",
       "      <td>NaN</td>\n",
       "      <td>NaN</td>\n",
       "      <td>NaN</td>\n",
       "      <td>21</td>\n",
       "      <td>Varón Cis</td>\n",
       "    </tr>\n",
       "    <tr>\n",
       "      <th>4</th>\n",
       "      <td>Argentina</td>\n",
       "      <td>Chaco</td>\n",
       "      <td>Full-Time</td>\n",
       "      <td>Staff (planta permanente)</td>\n",
       "      <td>140000.0</td>\n",
       "      <td>125000.0</td>\n",
       "      <td>True</td>\n",
       "      <td>NaN</td>\n",
       "      <td>NaN</td>\n",
       "      <td>NaN</td>\n",
       "      <td>...</td>\n",
       "      <td>NaN</td>\n",
       "      <td>NaN</td>\n",
       "      <td>NaN</td>\n",
       "      <td>NaN</td>\n",
       "      <td>NaN</td>\n",
       "      <td>NaN</td>\n",
       "      <td>NaN</td>\n",
       "      <td>NaN</td>\n",
       "      <td>32</td>\n",
       "      <td>Varón Cis</td>\n",
       "    </tr>\n",
       "  </tbody>\n",
       "</table>\n",
       "<p>5 rows × 44 columns</p>\n",
       "</div>"
      ],
      "text/plain": [
       "  work_country work_province work_dedication             work_contract_type   \n",
       "0    Argentina     Catamarca       Full-Time      Staff (planta permanente)  \\\n",
       "1    Argentina         Chaco       Full-Time  Remoto (empresa de otro país)   \n",
       "2    Argentina         Chaco       Full-Time      Staff (planta permanente)   \n",
       "3    Argentina         Chaco       Full-Time  Remoto (empresa de otro país)   \n",
       "4    Argentina         Chaco       Full-Time      Staff (planta permanente)   \n",
       "\n",
       "   salary_monthly_BRUTO  salary_monthly_NETO  numero   \n",
       "0              300000.0             245000.0    True  \\\n",
       "1              900000.0             850000.0    True   \n",
       "2              120000.0             115000.0    True   \n",
       "3              440000.0                  0.0    True   \n",
       "4              140000.0             125000.0    True   \n",
       "\n",
       "                      salary_in_usd salary_last_dollar_value   \n",
       "0                               NaN                      NaN  \\\n",
       "1  Cobro todo el salario en dólares                      300   \n",
       "2                               NaN                      NaN   \n",
       "3  Cobro todo el salario en dólares                      220   \n",
       "4                               NaN                      NaN   \n",
       "\n",
       "                     salary_pay_cripto  ... profile_studies_level_state   \n",
       "0                                  NaN  ...                    Completo  \\\n",
       "1                                  NaN  ...                         NaN   \n",
       "2                                  NaN  ...                         NaN   \n",
       "3  Cobro todo el salario criptomonedas  ...                         NaN   \n",
       "4                                  NaN  ...                         NaN   \n",
       "\n",
       "                                  profile_career           profile_university   \n",
       "0  Licenciatura en redes y comunicación de datos  UP - Universidad de Palermo  \\\n",
       "1                                            NaN                          NaN   \n",
       "2                                            NaN                          NaN   \n",
       "3                                            NaN                          NaN   \n",
       "4                                            NaN                          NaN   \n",
       "\n",
       "  profile_boot_camp profile_boot_camp_carrer work_on_call_duty   \n",
       "0               NaN                      NaN               NaN  \\\n",
       "1               NaN                      NaN               NaN   \n",
       "2               NaN                      NaN               NaN   \n",
       "3               NaN                      NaN               NaN   \n",
       "4               NaN                      NaN               NaN   \n",
       "\n",
       "   salary_on_call_duty_charge work_on_call_duty_charge_type  profile_age   \n",
       "0                         NaN                           NaN           35  \\\n",
       "1                         NaN                           NaN           31   \n",
       "2                         NaN                           NaN           27   \n",
       "3                         NaN                           NaN           21   \n",
       "4                         NaN                           NaN           32   \n",
       "\n",
       "  profile_gender  \n",
       "0      Varón Cis  \n",
       "1      Varón Cis  \n",
       "2      Varón Cis  \n",
       "3      Varón Cis  \n",
       "4      Varón Cis  \n",
       "\n",
       "[5 rows x 44 columns]"
      ]
     },
     "execution_count": 484,
     "metadata": {},
     "output_type": "execute_result"
    }
   ],
   "source": [
    "df.head()"
   ]
  },
  {
   "cell_type": "code",
   "execution_count": 485,
   "id": "8586e22a-8bb0-4627-8186-b7ba031018f5",
   "metadata": {},
   "outputs": [
    {
     "data": {
      "text/plain": [
       "Index(['work_country', 'work_province', 'work_dedication',\n",
       "       'work_contract_type', 'salary_monthly_BRUTO', 'salary_monthly_NETO',\n",
       "       'numero', 'salary_in_usd', 'salary_last_dollar_value',\n",
       "       'salary_pay_cripto', 'salary_%_cripto', 'salary_has_bonus',\n",
       "       'salary_bonus_tied_to', 'salary_inflation_adjustment',\n",
       "       'salary_percentage_inflation_adjustment',\n",
       "       'salary_month_last_inflation_adjustment',\n",
       "       'salary_comparison_last_semester', 'salary_benefit',\n",
       "       'salary_satisfaction', 'Trabajo de', 'profile_years_experience',\n",
       "       'work_years_in_company', 'work_years_in_current_position',\n",
       "       'work_people_in_charge_of', 'tools_platform',\n",
       "       'tools_programming_languages', 'tools_frameworks', 'tools_data_bases',\n",
       "       'tools_qa_testing', 'company_employee_number', 'work_work_modality',\n",
       "       'Si trabajas bajo un esquema híbrido ¿Cuántos días a la semana vas a la oficina?',\n",
       "       'company_recommended', 'profile_studies_level',\n",
       "       'profile_studies_level_state', 'profile_career', 'profile_university',\n",
       "       'profile_boot_camp', 'profile_boot_camp_carrer', 'work_on_call_duty',\n",
       "       'salary_on_call_duty_charge', 'work_on_call_duty_charge_type',\n",
       "       'profile_age', 'profile_gender'],\n",
       "      dtype='object')"
      ]
     },
     "execution_count": 485,
     "metadata": {},
     "output_type": "execute_result"
    }
   ],
   "source": [
    "df.columns"
   ]
  },
  {
   "cell_type": "code",
   "execution_count": 486,
   "id": "4e266880-f447-4ca1-86dc-f2f62874025e",
   "metadata": {},
   "outputs": [],
   "source": [
    "df = df.rename(columns = {\n",
    "    'salary_monthly_BRUTO': 'monthly_gross_salary',\n",
    "    'salary_monthly_NETO': 'monthly_net_salary',\n",
    "    'salary_%_cripto': 'crypto_salary_percentage',\n",
    "    'Trabajo de': 'role',\n",
    "    'Si trabajas bajo un esquema híbrido ¿Cuántos días a la semana vas a la oficina?': 'hybrid_office_hours_per_week',\n",
    "})"
   ]
  },
  {
   "cell_type": "code",
   "execution_count": 487,
   "id": "67219a23-b752-4e1d-bff7-8b102cdf834d",
   "metadata": {},
   "outputs": [
    {
     "data": {
      "text/plain": [
       "(5358, 44)"
      ]
     },
     "execution_count": 487,
     "metadata": {},
     "output_type": "execute_result"
    }
   ],
   "source": [
    "df.shape"
   ]
  },
  {
   "cell_type": "code",
   "execution_count": 488,
   "id": "00503a0a-c91b-48ac-80e3-738d41b992a9",
   "metadata": {},
   "outputs": [
    {
     "data": {
      "text/html": [
       "<div>\n",
       "<style scoped>\n",
       "    .dataframe tbody tr th:only-of-type {\n",
       "        vertical-align: middle;\n",
       "    }\n",
       "\n",
       "    .dataframe tbody tr th {\n",
       "        vertical-align: top;\n",
       "    }\n",
       "\n",
       "    .dataframe thead th {\n",
       "        text-align: right;\n",
       "    }\n",
       "</style>\n",
       "<table border=\"1\" class=\"dataframe\">\n",
       "  <thead>\n",
       "    <tr style=\"text-align: right;\">\n",
       "      <th></th>\n",
       "      <th>monthly_gross_salary</th>\n",
       "      <th>monthly_net_salary</th>\n",
       "      <th>salary_comparison_last_semester</th>\n",
       "      <th>salary_satisfaction</th>\n",
       "      <th>profile_years_experience</th>\n",
       "      <th>work_years_in_company</th>\n",
       "      <th>work_years_in_current_position</th>\n",
       "      <th>work_people_in_charge_of</th>\n",
       "      <th>hybrid_office_hours_per_week</th>\n",
       "      <th>company_recommended</th>\n",
       "      <th>salary_on_call_duty_charge</th>\n",
       "      <th>profile_age</th>\n",
       "    </tr>\n",
       "  </thead>\n",
       "  <tbody>\n",
       "    <tr>\n",
       "      <th>count</th>\n",
       "      <td>5.358000e+03</td>\n",
       "      <td>5.358000e+03</td>\n",
       "      <td>5358.000000</td>\n",
       "      <td>5358.000000</td>\n",
       "      <td>5358.00000</td>\n",
       "      <td>5358.000000</td>\n",
       "      <td>5358.000000</td>\n",
       "      <td>5358.000000</td>\n",
       "      <td>5358.000000</td>\n",
       "      <td>5358.000000</td>\n",
       "      <td>1718.000000</td>\n",
       "      <td>5358.000000</td>\n",
       "    </tr>\n",
       "    <tr>\n",
       "      <th>mean</th>\n",
       "      <td>3.635105e+05</td>\n",
       "      <td>2.770108e+05</td>\n",
       "      <td>2.639044</td>\n",
       "      <td>2.650616</td>\n",
       "      <td>7.34316</td>\n",
       "      <td>2.746529</td>\n",
       "      <td>2.003686</td>\n",
       "      <td>2.121930</td>\n",
       "      <td>0.617021</td>\n",
       "      <td>6.951848</td>\n",
       "      <td>2206.673690</td>\n",
       "      <td>33.279395</td>\n",
       "    </tr>\n",
       "    <tr>\n",
       "      <th>std</th>\n",
       "      <td>5.439255e+05</td>\n",
       "      <td>4.019423e+05</td>\n",
       "      <td>0.875262</td>\n",
       "      <td>0.880582</td>\n",
       "      <td>7.20028</td>\n",
       "      <td>4.491559</td>\n",
       "      <td>3.047915</td>\n",
       "      <td>9.749206</td>\n",
       "      <td>1.115014</td>\n",
       "      <td>2.713072</td>\n",
       "      <td>17389.853287</td>\n",
       "      <td>7.924729</td>\n",
       "    </tr>\n",
       "    <tr>\n",
       "      <th>min</th>\n",
       "      <td>0.000000e+00</td>\n",
       "      <td>0.000000e+00</td>\n",
       "      <td>1.000000</td>\n",
       "      <td>1.000000</td>\n",
       "      <td>0.00000</td>\n",
       "      <td>0.000000</td>\n",
       "      <td>0.000000</td>\n",
       "      <td>0.000000</td>\n",
       "      <td>0.000000</td>\n",
       "      <td>0.000000</td>\n",
       "      <td>0.000000</td>\n",
       "      <td>18.000000</td>\n",
       "    </tr>\n",
       "    <tr>\n",
       "      <th>25%</th>\n",
       "      <td>1.500000e+05</td>\n",
       "      <td>1.186122e+05</td>\n",
       "      <td>2.000000</td>\n",
       "      <td>2.000000</td>\n",
       "      <td>2.00000</td>\n",
       "      <td>0.000000</td>\n",
       "      <td>0.000000</td>\n",
       "      <td>0.000000</td>\n",
       "      <td>0.000000</td>\n",
       "      <td>6.000000</td>\n",
       "      <td>0.000000</td>\n",
       "      <td>27.000000</td>\n",
       "    </tr>\n",
       "    <tr>\n",
       "      <th>50%</th>\n",
       "      <td>2.560000e+05</td>\n",
       "      <td>2.010000e+05</td>\n",
       "      <td>3.000000</td>\n",
       "      <td>3.000000</td>\n",
       "      <td>5.00000</td>\n",
       "      <td>1.000000</td>\n",
       "      <td>1.000000</td>\n",
       "      <td>0.000000</td>\n",
       "      <td>0.000000</td>\n",
       "      <td>8.000000</td>\n",
       "      <td>0.000000</td>\n",
       "      <td>32.000000</td>\n",
       "    </tr>\n",
       "    <tr>\n",
       "      <th>75%</th>\n",
       "      <td>4.126570e+05</td>\n",
       "      <td>2.940000e+05</td>\n",
       "      <td>3.000000</td>\n",
       "      <td>3.000000</td>\n",
       "      <td>11.00000</td>\n",
       "      <td>3.000000</td>\n",
       "      <td>2.500000</td>\n",
       "      <td>1.000000</td>\n",
       "      <td>1.000000</td>\n",
       "      <td>9.000000</td>\n",
       "      <td>0.000000</td>\n",
       "      <td>38.000000</td>\n",
       "    </tr>\n",
       "    <tr>\n",
       "      <th>max</th>\n",
       "      <td>2.800000e+07</td>\n",
       "      <td>1.500000e+07</td>\n",
       "      <td>4.000000</td>\n",
       "      <td>4.000000</td>\n",
       "      <td>45.00000</td>\n",
       "      <td>80.000000</td>\n",
       "      <td>34.000000</td>\n",
       "      <td>270.000000</td>\n",
       "      <td>5.000000</td>\n",
       "      <td>10.000000</td>\n",
       "      <td>450000.000000</td>\n",
       "      <td>74.000000</td>\n",
       "    </tr>\n",
       "  </tbody>\n",
       "</table>\n",
       "</div>"
      ],
      "text/plain": [
       "       monthly_gross_salary  monthly_net_salary   \n",
       "count          5.358000e+03        5.358000e+03  \\\n",
       "mean           3.635105e+05        2.770108e+05   \n",
       "std            5.439255e+05        4.019423e+05   \n",
       "min            0.000000e+00        0.000000e+00   \n",
       "25%            1.500000e+05        1.186122e+05   \n",
       "50%            2.560000e+05        2.010000e+05   \n",
       "75%            4.126570e+05        2.940000e+05   \n",
       "max            2.800000e+07        1.500000e+07   \n",
       "\n",
       "       salary_comparison_last_semester  salary_satisfaction   \n",
       "count                      5358.000000          5358.000000  \\\n",
       "mean                          2.639044             2.650616   \n",
       "std                           0.875262             0.880582   \n",
       "min                           1.000000             1.000000   \n",
       "25%                           2.000000             2.000000   \n",
       "50%                           3.000000             3.000000   \n",
       "75%                           3.000000             3.000000   \n",
       "max                           4.000000             4.000000   \n",
       "\n",
       "       profile_years_experience  work_years_in_company   \n",
       "count                5358.00000            5358.000000  \\\n",
       "mean                    7.34316               2.746529   \n",
       "std                     7.20028               4.491559   \n",
       "min                     0.00000               0.000000   \n",
       "25%                     2.00000               0.000000   \n",
       "50%                     5.00000               1.000000   \n",
       "75%                    11.00000               3.000000   \n",
       "max                    45.00000              80.000000   \n",
       "\n",
       "       work_years_in_current_position  work_people_in_charge_of   \n",
       "count                     5358.000000               5358.000000  \\\n",
       "mean                         2.003686                  2.121930   \n",
       "std                          3.047915                  9.749206   \n",
       "min                          0.000000                  0.000000   \n",
       "25%                          0.000000                  0.000000   \n",
       "50%                          1.000000                  0.000000   \n",
       "75%                          2.500000                  1.000000   \n",
       "max                         34.000000                270.000000   \n",
       "\n",
       "       hybrid_office_hours_per_week  company_recommended   \n",
       "count                   5358.000000          5358.000000  \\\n",
       "mean                       0.617021             6.951848   \n",
       "std                        1.115014             2.713072   \n",
       "min                        0.000000             0.000000   \n",
       "25%                        0.000000             6.000000   \n",
       "50%                        0.000000             8.000000   \n",
       "75%                        1.000000             9.000000   \n",
       "max                        5.000000            10.000000   \n",
       "\n",
       "       salary_on_call_duty_charge  profile_age  \n",
       "count                 1718.000000  5358.000000  \n",
       "mean                  2206.673690    33.279395  \n",
       "std                  17389.853287     7.924729  \n",
       "min                      0.000000    18.000000  \n",
       "25%                      0.000000    27.000000  \n",
       "50%                      0.000000    32.000000  \n",
       "75%                      0.000000    38.000000  \n",
       "max                 450000.000000    74.000000  "
      ]
     },
     "execution_count": 488,
     "metadata": {},
     "output_type": "execute_result"
    }
   ],
   "source": [
    "df.describe()"
   ]
  },
  {
   "cell_type": "markdown",
   "id": "ef524f8e-6f2e-4754-8736-357241cfc5fa",
   "metadata": {},
   "source": [
    "### monthly_net_salary"
   ]
  },
  {
   "cell_type": "code",
   "execution_count": 489,
   "id": "b900def4-e0b2-4668-9412-3c8959d02182",
   "metadata": {},
   "outputs": [
    {
     "data": {
      "text/plain": [
       "monthly_net_salary\n",
       "0.0         254\n",
       "250000.0     95\n",
       "200000.0     90\n",
       "300000.0     87\n",
       "230000.0     85\n",
       "           ... \n",
       "249724.0      1\n",
       "765948.0      1\n",
       "126148.0      1\n",
       "155625.0      1\n",
       "297750.0      1\n",
       "Name: count, Length: 1643, dtype: int64"
      ]
     },
     "execution_count": 489,
     "metadata": {},
     "output_type": "execute_result"
    }
   ],
   "source": [
    "df.monthly_net_salary.value_counts(sort=True)"
   ]
  },
  {
   "cell_type": "code",
   "execution_count": 490,
   "id": "13bf9b6a-3174-4b9e-a642-99f2805a2ab1",
   "metadata": {},
   "outputs": [
    {
     "data": {
      "text/plain": [
       "536"
      ]
     },
     "execution_count": 490,
     "metadata": {},
     "output_type": "execute_result"
    }
   ],
   "source": [
    "lower_than_10_mask = df.monthly_net_salary <= 10000\n",
    "df[lower_than_10_mask].monthly_net_salary.count()"
   ]
  },
  {
   "cell_type": "code",
   "execution_count": 491,
   "id": "ed13b249-f9d9-4045-9747-51f53d0b088f",
   "metadata": {},
   "outputs": [],
   "source": [
    "min_net_salary, max_net_salary = df.monthly_net_salary.min(), df.monthly_net_salary.max()\n",
    "avg_net_salary, median_net_salary = df.monthly_net_salary.mean(), df.monthly_net_salary.median()\n",
    "net_salary_counting = df.monthly_net_salary.value_counts()\n",
    "min_count_net_salary, max_count_net_salary = df.monthly_net_salary.loc[net_salary_counting.min()], df.monthly_net_salary.loc[net_salary_counting.max()]\n",
    "\n",
    "xticks = [min_net_salary, max_net_salary, avg_net_salary, median_net_salary, min_count_net_salary, max_count_net_salary]"
   ]
  },
  {
   "cell_type": "code",
   "execution_count": 492,
   "id": "361f6381-8e8a-41db-8e70-0a85084bcfe0",
   "metadata": {},
   "outputs": [
    {
     "data": {
      "text/plain": [
       "[0.0, 15000.0, 277.01, 201.0, 850.0, 240.0]"
      ]
     },
     "execution_count": 492,
     "metadata": {},
     "output_type": "execute_result"
    }
   ],
   "source": [
    "[round(xtick / 1_000, 2) for xtick in [min_net_salary, max_net_salary, avg_net_salary, median_net_salary, min_count_net_salary, max_count_net_salary]]"
   ]
  },
  {
   "cell_type": "code",
   "execution_count": 493,
   "id": "92288200-ccb6-4a9e-b295-ca00f25b3912",
   "metadata": {},
   "outputs": [
    {
     "data": {
      "image/png": "[encoded data removed]",
      "text/plain": [
       "<Figure size 2000x500 with 1 Axes>"
      ]
     },
     "metadata": {},
     "output_type": "display_data"
    }
   ],
   "source": [
    "ax = df.monthly_net_salary.plot(kind='hist',\n",
    "                                edgecolor='black',\n",
    "                                bins=500,\n",
    "                                xlim=(0, 2_500_000),\n",
    "                                xlabel='monthly net salary in thousands',\n",
    "                                xticks=xticks,\n",
    "                                rot=50,\n",
    "                                figsize=(20, 5))\n",
    "ax.ticklabel_format(axis='x', scilimits=(3, 3))"
   ]
  },
  {
   "cell_type": "markdown",
   "id": "929939d0-ac28-449a-b7ed-27bd8084e995",
   "metadata": {},
   "source": [
    "> 👀 ~500 outliers in 0-10k range "
   ]
  },
  {
   "cell_type": "markdown",
   "id": "6cbef0cd-3157-473b-9454-c96fb1ec9e1a",
   "metadata": {},
   "source": [
    "### work country"
   ]
  },
  {
   "cell_type": "code",
   "execution_count": 494,
   "id": "a63fa4b7-2e6c-4e2a-a55b-3a6f5a95bea0",
   "metadata": {},
   "outputs": [
    {
     "data": {
      "text/plain": [
       "array(['Argentina'], dtype=object)"
      ]
     },
     "execution_count": 494,
     "metadata": {},
     "output_type": "execute_result"
    }
   ],
   "source": [
    "df.work_country.unique()"
   ]
  },
  {
   "cell_type": "markdown",
   "id": "bc992f5f-bcac-42a3-877f-7148f55019d1",
   "metadata": {},
   "source": [
    "> There is no data outside arg, `work_country` does not make sense"
   ]
  },
  {
   "cell_type": "code",
   "execution_count": 495,
   "id": "875d2853-fea9-4a8e-a868-21542ef60a02",
   "metadata": {},
   "outputs": [],
   "source": [
    "df = df.drop('work_country', axis=1)"
   ]
  },
  {
   "cell_type": "code",
   "execution_count": 496,
   "id": "966ce685-3ed6-475d-945e-ebec84ae2df5",
   "metadata": {},
   "outputs": [
    {
     "data": {
      "text/plain": [
       "<Axes: ylabel='work_province'>"
      ]
     },
     "execution_count": 496,
     "metadata": {},
     "output_type": "execute_result"
    },
    {
     "data": {
      "image/png": "[encoded data removed]",
      "text/plain": [
       "<Figure size 1000x700 with 1 Axes>"
      ]
     },
     "metadata": {},
     "output_type": "display_data"
    }
   ],
   "source": [
    "work_province_counting = df.work_province.value_counts().sort_values()\n",
    "work_province_counting.plot(kind='barh', figsize=(10, 7),\n",
    "                           xticks=work_province_counting[-4:].to_list())"
   ]
  },
  {
   "cell_type": "markdown",
   "id": "6cde1fe6-3860-4da2-8c19-46d4b98baa32",
   "metadata": {},
   "source": [
    "> 👀 underrepresented poblation outside of Bs As"
   ]
  },
  {
   "cell_type": "markdown",
   "id": "006a8111-7927-4384-aa0d-008444ed7f5f",
   "metadata": {},
   "source": [
    "### age"
   ]
  },
  {
   "cell_type": "code",
   "execution_count": 497,
   "id": "8e33b125-69aa-4c3e-8772-eb22fb91f3a7",
   "metadata": {},
   "outputs": [
    {
     "data": {
      "image/png": "[encoded data removed]",
      "text/plain": [
       "<Figure size 1500x500 with 1 Axes>"
      ]
     },
     "metadata": {},
     "output_type": "display_data"
    }
   ],
   "source": [
    "under_50_mask = df.profile_age < 50\n",
    "min_age, max_age = df.profile_age.min(), df.profile_age.max()\n",
    "avg_age, median_age = df.profile_age.mean(), df.profile_age.median()\n",
    "age_counting = df.profile_age.value_counts()\n",
    "min_count_age, max_count_age = df.profile_age.loc[age_counting.min()], df.profile_age.loc[age_counting.max()]\n",
    "\n",
    "xticks = [int(x) for x in [min_age, max_age, avg_age, median_age, min_count_age, max_count_age]]\n",
    "\n",
    "ax = df[under_50_mask].profile_age.plot(kind='hist',\n",
    "                                edgecolor='black',\n",
    "                                bins=30,\n",
    "                                xlim=(min_age, max_age),\n",
    "                                xlabel='age',\n",
    "                                xticks=xticks,\n",
    "                                rot=30,\n",
    "                                figsize=(15, 5))"
   ]
  },
  {
   "cell_type": "markdown",
   "id": "319d41f7-7c07-4d73-9b44-037e9b38eaeb",
   "metadata": {},
   "source": [
    "> 👀 age outlier around 74!"
   ]
  },
  {
   "cell_type": "code",
   "execution_count": 498,
   "id": "6f7525b3-03fb-4de1-bafd-32e951c1d313",
   "metadata": {},
   "outputs": [
    {
     "data": {
      "image/png": "[encoded data removed]",
      "text/plain": [
       "<Figure size 1000x500 with 1 Axes>"
      ]
     },
     "metadata": {},
     "output_type": "display_data"
    }
   ],
   "source": [
    "ax = df.plot(kind='scatter',\n",
    "             y='profile_age', x='monthly_net_salary',\n",
    "             figsize=(10, 5),\n",
    "             grid=True,)\n",
    "\n",
    "ax.ticklabel_format(axis='x', scilimits=(3, 3))"
   ]
  },
  {
   "cell_type": "markdown",
   "id": "78b3554f-7245-4c76-bad7-79125a79444f",
   "metadata": {},
   "source": [
    "### gender"
   ]
  },
  {
   "cell_type": "code",
   "execution_count": 499,
   "id": "eb4f70c2-c072-46c2-bb7a-b814eb43d835",
   "metadata": {},
   "outputs": [
    {
     "data": {
      "text/plain": [
       "array(['Varón Cis', 'Varón cis', 'Mujer Cis', 'Mujer', 'Varón Trans',\n",
       "       'Queer', 'No binarie', 'Mujer cis', 'Mujer Trans', 'mujer', 'Gay',\n",
       "       'Fluido', 'Bigénero', 'Femenino'], dtype=object)"
      ]
     },
     "execution_count": 499,
     "metadata": {},
     "output_type": "execute_result"
    }
   ],
   "source": [
    "df.profile_gender.unique()"
   ]
  },
  {
   "cell_type": "code",
   "execution_count": 500,
   "id": "6607659a-62f1-4401-85d4-99bc48381ad8",
   "metadata": {},
   "outputs": [],
   "source": [
    "to_replace = {\n",
    "    ('Varón Cis', 'Varón cis') : 'varon cis', \n",
    "    ('Mujer Cis', 'Mujer', 'Mujer cis', 'mujer', 'femenino', 'Femenino'): 'mujer cis',\n",
    "    ('Varón Trans', 'Queer', 'No binarie', 'Gay', 'Fluido', 'Bigénero', 'Mujer Trans'): 'diversidades'}\n",
    "\n",
    "for k, v in to_replace.items():\n",
    "    old, new = k, v\n",
    "    df.profile_gender = df.profile_gender.replace(\n",
    "        old, new\n",
    "    )"
   ]
  },
  {
   "cell_type": "code",
   "execution_count": 501,
   "id": "f45efdae-b6b7-4ce6-8145-1a6849483253",
   "metadata": {},
   "outputs": [
    {
     "data": {
      "text/plain": [
       "0          varon cis\n",
       "1          varon cis\n",
       "2          varon cis\n",
       "3          varon cis\n",
       "4          varon cis\n",
       "            ...     \n",
       "5353       mujer cis\n",
       "5354       mujer cis\n",
       "5355       mujer cis\n",
       "5356       varon cis\n",
       "5357    diversidades\n",
       "Name: profile_gender, Length: 5358, dtype: object"
      ]
     },
     "execution_count": 501,
     "metadata": {},
     "output_type": "execute_result"
    }
   ],
   "source": [
    "df.profile_gender"
   ]
  },
  {
   "cell_type": "code",
   "execution_count": 502,
   "id": "126cb65a-5687-4fd9-85a0-f96934902bb1",
   "metadata": {},
   "outputs": [
    {
     "data": {
      "text/plain": [
       "0          varon cis\n",
       "1          varon cis\n",
       "2          varon cis\n",
       "3          varon cis\n",
       "4          varon cis\n",
       "            ...     \n",
       "5353       mujer cis\n",
       "5354       mujer cis\n",
       "5355       mujer cis\n",
       "5356       varon cis\n",
       "5357    diversidades\n",
       "Name: profile_gender, Length: 5358, dtype: category\n",
       "Categories (3, object): ['diversidades', 'mujer cis', 'varon cis']"
      ]
     },
     "execution_count": 502,
     "metadata": {},
     "output_type": "execute_result"
    }
   ],
   "source": [
    "df.profile_gender.astype('category')"
   ]
  },
  {
   "cell_type": "code",
   "execution_count": 503,
   "id": "5a547254-7088-4291-9802-3b845fddf97b",
   "metadata": {},
   "outputs": [
    {
     "data": {
      "text/plain": [
       "<Axes: ylabel='profile_gender'>"
      ]
     },
     "execution_count": 503,
     "metadata": {},
     "output_type": "execute_result"
    },
    {
     "data": {
      "image/png": "[encoded data removed]",
      "text/plain": [
       "<Figure size 640x480 with 1 Axes>"
      ]
     },
     "metadata": {},
     "output_type": "display_data"
    }
   ],
   "source": [
    "df.profile_gender.value_counts().sort_values().plot(kind='barh')  #, colorbar=True)"
   ]
  },
  {
   "cell_type": "markdown",
   "id": "0cb49672-1f28-49ba-a098-432594c04b18",
   "metadata": {},
   "source": [
    "> under represented \"diversities\""
   ]
  },
  {
   "cell_type": "code",
   "execution_count": 506,
   "id": "389c3089-2262-4d2f-98f8-568d7ccc9e6c",
   "metadata": {},
   "outputs": [],
   "source": [
    "df.to_csv('sysarmy_tech_salary_survey_2022.csv', index=False)"
   ]
  }
 ],
 "metadata": {
  "kernelspec": {
   "display_name": "Python 3 (ipykernel)",
   "language": "python",
   "name": "python3"
  },
  "language_info": {
   "codemirror_mode": {
    "name": "ipython",
    "version": 3
   },
   "file_extension": ".py",
   "mimetype": "text/x-python",
   "name": "python",
   "nbconvert_exporter": "python",
   "pygments_lexer": "ipython3",
   "version": "3.9.16"
  }
 },
 "nbformat": 4,
 "nbformat_minor": 5
}
